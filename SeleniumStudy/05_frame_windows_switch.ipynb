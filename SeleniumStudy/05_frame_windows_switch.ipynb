{
 "cells": [
  {
   "cell_type": "code",
   "execution_count": 1,
   "metadata": {},
   "outputs": [],
   "source": [
    "from selenium import webdriver\n",
    "from selenium.webdriver.common.by import By\n",
    "\n",
    "wd = webdriver.Chrome()\n",
    "\n",
    "wd.get('https://cdn2.byhy.net/files/selenium/sample2.html')\n",
    "\n",
    "# 根据 class name 选择元素，返回的是 一个列表\n",
    "elements = wd.find_elements(By.CLASS_NAME, 'plant')\n",
    "\n",
    "for element in elements:\n",
    "    # 打印结果为空白\n",
    "    print(element.text)\n",
    "wd.quit()"
   ]
  },
  {
   "cell_type": "markdown",
   "metadata": {},
   "source": [
    "iframe元素不能直接操控，需要切换操作空间\n"
   ]
  },
  {
   "cell_type": "code",
   "execution_count": 2,
   "metadata": {},
   "outputs": [
    {
     "name": "stdout",
     "output_type": "stream",
     "text": [
      "土豆\n",
      "洋葱\n",
      "白菜\n"
     ]
    }
   ],
   "source": [
    "\n",
    "wd = webdriver.Chrome()\n",
    "\n",
    "wd.get('https://cdn2.byhy.net/files/selenium/sample2.html')\n",
    "\n",
    "\n",
    "# 先根据name属性值 'innerFrame'，切换到iframe中\n",
    "wd.switch_to.frame('innerFrame')\n",
    "\n",
    "# 根据 class name 选择元素，返回的是 一个列表\n",
    "elements = wd.find_elements(By.CLASS_NAME, 'plant')\n",
    "\n",
    "for element in elements:\n",
    "    print(element.text)\n",
    "\n",
    "# 返回原来的操作空间\n",
    "wd.switch_to.default_content()\n",
    "wd.quit()"
   ]
  },
  {
   "cell_type": "markdown",
   "metadata": {},
   "source": [
    "当页面打开一个新的窗口时，也需要改变操作对象\n",
    "wd.switch_to.window(handle)\n",
    "WebDriver对象有window_handles 属性，这是一个列表对象， 里面包括了当前浏览器里面所有的窗口句柄。可以循环遍历所有窗口检查title切换"
   ]
  },
  {
   "cell_type": "code",
   "execution_count": null,
   "metadata": {},
   "outputs": [],
   "source": [
    "# 保存老窗口\n",
    "mainWindow = wd.current_window_handle\n",
    "for handle in wd.window_handles:\n",
    "    # 先切换到该窗口\n",
    "    wd.switch_to.window(handle)\n",
    "    # 得到该窗口的标题栏字符串，判断是不是我们要操作的那个窗口\n",
    "    if 'Bing' in wd.title:\n",
    "        # 如果是，那么这时候WebDriver对象就是对应的该该窗口，正好，跳出循环，\n",
    "        break\n",
    "# 回到主窗口\n",
    "wd.switch_to.window(mainWindow)"
   ]
  }
 ],
 "metadata": {
  "kernelspec": {
   "display_name": "Python 3",
   "language": "python",
   "name": "python3"
  },
  "language_info": {
   "codemirror_mode": {
    "name": "ipython",
    "version": 3
   },
   "file_extension": ".py",
   "mimetype": "text/x-python",
   "name": "python",
   "nbconvert_exporter": "python",
   "pygments_lexer": "ipython3",
   "version": "3.8.9"
  }
 },
 "nbformat": 4,
 "nbformat_minor": 2
}
