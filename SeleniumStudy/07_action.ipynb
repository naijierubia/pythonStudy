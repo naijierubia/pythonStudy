{
 "cells": [
  {
   "cell_type": "markdown",
   "metadata": {},
   "source": [
    "有的元素需要鼠标悬浮在上面才能看到完整的内容\n",
    "selenium提供了各种关于鼠标，键盘的操作"
   ]
  },
  {
   "cell_type": "code",
   "execution_count": null,
   "metadata": {},
   "outputs": [],
   "source": [
    "from selenium import webdriver\n",
    "from selenium.webdriver.common.by import By\n",
    "from selenium.webdriver.common.action_chains import ActionChains\n",
    "\n",
    "driver = webdriver.Chrome()\n",
    "driver.implicitly_wait(5)\n",
    "\n",
    "clickable = driver.find_element(By.ID, \"clickable\")\n",
    "ActionChains(driver)\\\n",
    "        .move_to_element(clickable)\\\n",
    "        .pause(1)\\\n",
    "        .click_and_hold()\\\n",
    "        .pause(1)\\\n",
    "        .send_keys(\"abc\")\\\n",
    "        .perform()"
   ]
  }
 ],
 "metadata": {
  "kernelspec": {
   "display_name": "Python 3",
   "language": "python",
   "name": "python3"
  },
  "language_info": {
   "name": "python",
   "version": "3.8.9"
  }
 },
 "nbformat": 4,
 "nbformat_minor": 2
}
