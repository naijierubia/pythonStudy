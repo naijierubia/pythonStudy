{
 "cells": [
  {
   "cell_type": "code",
   "execution_count": null,
   "metadata": {},
   "outputs": [],
   "source": [
    "from selenium import webdriver\n",
    "from selenium.webdriver.common.by import By\n",
    "\n",
    "wd = webdriver.Chrome()\n",
    "\n",
    "wd.get('https://www.byhy.net/_files/stock1.html')\n",
    "\n",
    "element = wd.find_element(By.ID, 'kw')\n",
    "\n",
    "element.send_keys('通讯\\n')\n",
    "\n",
    "\n",
    "# 返回页面 ID为1 的元素\n",
    "element = wd.find_element(By.ID,'1')\n",
    "# 打印该元素的文字内容\n",
    "print(element.text)\n",
    "wd.quit()"
   ]
  },
  {
   "cell_type": "markdown",
   "metadata": {},
   "source": [
    "当页面加载太慢就开始查找元素就会找不到元素抛出异常，因此需要设置等待时间\n",
    "wd.implicitly_wait(10)为全局等待时间"
   ]
  },
  {
   "cell_type": "code",
   "execution_count": null,
   "metadata": {},
   "outputs": [],
   "source": [
    "wd = webdriver.Chrome()\n",
    "wd.implicitly_wait(10)\n",
    "\n",
    "wd.get('https://www.byhy.net/_files/stock1.html')\n",
    "\n",
    "element = wd.find_element(By.ID, 'kw')\n",
    "\n",
    "element.send_keys('通讯\\n')\n",
    "\n",
    "\n",
    "# 返回页面 ID为1 的元素\n",
    "element = wd.find_element(By.ID,'1')\n",
    "\n",
    "print(element.text)\n",
    "wd.quit()"
   ]
  },
  {
   "cell_type": "markdown",
   "metadata": {},
   "source": [
    "**有的时候尽管我们可以找到某个元素，但是元素内的内容还没有更新出来，还是需要sleep等待，特别是填写表单的时候，有的下拉菜单中的内容需要根据前一个下拉菜单渲染内容**"
   ]
  }
 ],
 "metadata": {
  "kernelspec": {
   "display_name": "Python 3",
   "language": "python",
   "name": "python3"
  },
  "language_info": {
   "codemirror_mode": {
    "name": "ipython",
    "version": 3
   },
   "file_extension": ".py",
   "mimetype": "text/x-python",
   "name": "python",
   "nbconvert_exporter": "python",
   "pygments_lexer": "ipython3",
   "version": "3.8.9"
  }
 },
 "nbformat": 4,
 "nbformat_minor": 2
}
