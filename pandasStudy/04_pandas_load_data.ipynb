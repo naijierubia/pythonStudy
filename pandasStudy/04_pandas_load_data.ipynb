{
 "cells": [
  {
   "cell_type": "markdown",
   "metadata": {},
   "source": [
    "# pandas读取数据"
   ]
  },
  {
   "cell_type": "markdown",
   "metadata": {},
   "source": [
    "## read_csv方法\n",
    "1. filepath_or_buffer：路径\n",
    "2. sep：分隔符，默认为逗号\n",
    "3. header：默认首行为列名，header=None表示没有列名\n",
    "4. names：当header=None时自定义列名\n",
    "5. index_col：指定某一列为行级索引，如果为列表则设置复合索引\n",
    "6. usecols：指定要读取哪些列\n",
    "7. skiprows：跳过前几行\n",
    "8. encoding：编码方式"
   ]
  },
  {
   "cell_type": "code",
   "execution_count": 7,
   "metadata": {},
   "outputs": [],
   "source": [
    "import numpy as np\n",
    "import pandas as pd"
   ]
  },
  {
   "cell_type": "code",
   "execution_count": 8,
   "metadata": {},
   "outputs": [
    {
     "data": {
      "text/html": [
       "<div>\n",
       "<style scoped>\n",
       "    .dataframe tbody tr th:only-of-type {\n",
       "        vertical-align: middle;\n",
       "    }\n",
       "\n",
       "    .dataframe tbody tr th {\n",
       "        vertical-align: top;\n",
       "    }\n",
       "\n",
       "    .dataframe thead th {\n",
       "        text-align: right;\n",
       "    }\n",
       "</style>\n",
       "<table border=\"1\" class=\"dataframe\">\n",
       "  <thead>\n",
       "    <tr style=\"text-align: right;\">\n",
       "      <th></th>\n",
       "      <th>pack_type</th>\n",
       "      <th>extra_time</th>\n",
       "      <th>extra_flow</th>\n",
       "      <th>use_month</th>\n",
       "      <th>loss</th>\n",
       "    </tr>\n",
       "    <tr>\n",
       "      <th>index</th>\n",
       "      <th></th>\n",
       "      <th></th>\n",
       "      <th></th>\n",
       "      <th></th>\n",
       "      <th></th>\n",
       "    </tr>\n",
       "  </thead>\n",
       "  <tbody>\n",
       "    <tr>\n",
       "      <th>1</th>\n",
       "      <td>1</td>\n",
       "      <td>792.83</td>\n",
       "      <td>-10.45</td>\n",
       "      <td>25</td>\n",
       "      <td>0</td>\n",
       "    </tr>\n",
       "    <tr>\n",
       "      <th>2</th>\n",
       "      <td>1</td>\n",
       "      <td>121.67</td>\n",
       "      <td>-21.14</td>\n",
       "      <td>25</td>\n",
       "      <td>0</td>\n",
       "    </tr>\n",
       "    <tr>\n",
       "      <th>3</th>\n",
       "      <td>1</td>\n",
       "      <td>-30.00</td>\n",
       "      <td>-25.66</td>\n",
       "      <td>2</td>\n",
       "      <td>1</td>\n",
       "    </tr>\n",
       "    <tr>\n",
       "      <th>4</th>\n",
       "      <td>1</td>\n",
       "      <td>241.50</td>\n",
       "      <td>-288.34</td>\n",
       "      <td>25</td>\n",
       "      <td>0</td>\n",
       "    </tr>\n",
       "    <tr>\n",
       "      <th>5</th>\n",
       "      <td>1</td>\n",
       "      <td>1629.67</td>\n",
       "      <td>-23.66</td>\n",
       "      <td>25</td>\n",
       "      <td>0</td>\n",
       "    </tr>\n",
       "    <tr>\n",
       "      <th>...</th>\n",
       "      <td>...</td>\n",
       "      <td>...</td>\n",
       "      <td>...</td>\n",
       "      <td>...</td>\n",
       "      <td>...</td>\n",
       "    </tr>\n",
       "    <tr>\n",
       "      <th>4971</th>\n",
       "      <td>1</td>\n",
       "      <td>1109.33</td>\n",
       "      <td>49.84</td>\n",
       "      <td>25</td>\n",
       "      <td>0</td>\n",
       "    </tr>\n",
       "    <tr>\n",
       "      <th>4972</th>\n",
       "      <td>1</td>\n",
       "      <td>197.83</td>\n",
       "      <td>-34.99</td>\n",
       "      <td>21</td>\n",
       "      <td>1</td>\n",
       "    </tr>\n",
       "    <tr>\n",
       "      <th>4973</th>\n",
       "      <td>1</td>\n",
       "      <td>162.83</td>\n",
       "      <td>71.37</td>\n",
       "      <td>25</td>\n",
       "      <td>0</td>\n",
       "    </tr>\n",
       "    <tr>\n",
       "      <th>4974</th>\n",
       "      <td>1</td>\n",
       "      <td>358.17</td>\n",
       "      <td>26.32</td>\n",
       "      <td>21</td>\n",
       "      <td>1</td>\n",
       "    </tr>\n",
       "    <tr>\n",
       "      <th>4975</th>\n",
       "      <td>3</td>\n",
       "      <td>-655.67</td>\n",
       "      <td>-96.44</td>\n",
       "      <td>25</td>\n",
       "      <td>0</td>\n",
       "    </tr>\n",
       "  </tbody>\n",
       "</table>\n",
       "<p>4975 rows × 5 columns</p>\n",
       "</div>"
      ],
      "text/plain": [
       "       pack_type  extra_time  extra_flow  use_month  loss\n",
       "index                                                    \n",
       "1              1      792.83      -10.45         25     0\n",
       "2              1      121.67      -21.14         25     0\n",
       "3              1      -30.00      -25.66          2     1\n",
       "4              1      241.50     -288.34         25     0\n",
       "5              1     1629.67      -23.66         25     0\n",
       "...          ...         ...         ...        ...   ...\n",
       "4971           1     1109.33       49.84         25     0\n",
       "4972           1      197.83      -34.99         21     1\n",
       "4973           1      162.83       71.37         25     0\n",
       "4974           1      358.17       26.32         21     1\n",
       "4975           3     -655.67      -96.44         25     0\n",
       "\n",
       "[4975 rows x 5 columns]"
      ]
     },
     "execution_count": 8,
     "metadata": {},
     "output_type": "execute_result"
    }
   ],
   "source": [
    "data = pd.read_csv(r'./CustomerSurvival.csv',index_col=0)\n",
    "data"
   ]
  },
  {
   "cell_type": "markdown",
   "metadata": {},
   "source": [
    "## read_json方法"
   ]
  },
  {
   "cell_type": "code",
   "execution_count": 9,
   "metadata": {},
   "outputs": [
    {
     "data": {
      "text/html": [
       "<div>\n",
       "<style scoped>\n",
       "    .dataframe tbody tr th:only-of-type {\n",
       "        vertical-align: middle;\n",
       "    }\n",
       "\n",
       "    .dataframe tbody tr th {\n",
       "        vertical-align: top;\n",
       "    }\n",
       "\n",
       "    .dataframe thead th {\n",
       "        text-align: right;\n",
       "    }\n",
       "</style>\n",
       "<table border=\"1\" class=\"dataframe\">\n",
       "  <thead>\n",
       "    <tr style=\"text-align: right;\">\n",
       "      <th></th>\n",
       "      <th>John Carson</th>\n",
       "      <th>Michelle Peterson</th>\n",
       "      <th>William Reynolds</th>\n",
       "      <th>Jillian Hobart</th>\n",
       "      <th>Melissa Jones</th>\n",
       "      <th>Alex Roberts</th>\n",
       "      <th>Michael Henry</th>\n",
       "    </tr>\n",
       "  </thead>\n",
       "  <tbody>\n",
       "    <tr>\n",
       "      <th>Inception</th>\n",
       "      <td>2.5</td>\n",
       "      <td>3.0</td>\n",
       "      <td>2.5</td>\n",
       "      <td>NaN</td>\n",
       "      <td>3</td>\n",
       "      <td>3.0</td>\n",
       "      <td>NaN</td>\n",
       "    </tr>\n",
       "    <tr>\n",
       "      <th>Pulp Fiction</th>\n",
       "      <td>3.5</td>\n",
       "      <td>3.5</td>\n",
       "      <td>3.0</td>\n",
       "      <td>3.5</td>\n",
       "      <td>4</td>\n",
       "      <td>4.0</td>\n",
       "      <td>4.5</td>\n",
       "    </tr>\n",
       "    <tr>\n",
       "      <th>Anger Management</th>\n",
       "      <td>3.0</td>\n",
       "      <td>1.5</td>\n",
       "      <td>NaN</td>\n",
       "      <td>3.0</td>\n",
       "      <td>2</td>\n",
       "      <td>NaN</td>\n",
       "      <td>NaN</td>\n",
       "    </tr>\n",
       "    <tr>\n",
       "      <th>Fracture</th>\n",
       "      <td>3.5</td>\n",
       "      <td>5.0</td>\n",
       "      <td>3.5</td>\n",
       "      <td>4.0</td>\n",
       "      <td>3</td>\n",
       "      <td>5.0</td>\n",
       "      <td>4.0</td>\n",
       "    </tr>\n",
       "    <tr>\n",
       "      <th>Serendipity</th>\n",
       "      <td>2.5</td>\n",
       "      <td>3.5</td>\n",
       "      <td>NaN</td>\n",
       "      <td>2.5</td>\n",
       "      <td>2</td>\n",
       "      <td>3.5</td>\n",
       "      <td>1.0</td>\n",
       "    </tr>\n",
       "    <tr>\n",
       "      <th>Jerry Maguire</th>\n",
       "      <td>3.0</td>\n",
       "      <td>3.0</td>\n",
       "      <td>4.0</td>\n",
       "      <td>4.5</td>\n",
       "      <td>3</td>\n",
       "      <td>3.0</td>\n",
       "      <td>NaN</td>\n",
       "    </tr>\n",
       "  </tbody>\n",
       "</table>\n",
       "</div>"
      ],
      "text/plain": [
       "                  John Carson  Michelle Peterson  William Reynolds  \\\n",
       "Inception                 2.5                3.0               2.5   \n",
       "Pulp Fiction              3.5                3.5               3.0   \n",
       "Anger Management          3.0                1.5               NaN   \n",
       "Fracture                  3.5                5.0               3.5   \n",
       "Serendipity               2.5                3.5               NaN   \n",
       "Jerry Maguire             3.0                3.0               4.0   \n",
       "\n",
       "                  Jillian Hobart  Melissa Jones  Alex Roberts  Michael Henry  \n",
       "Inception                    NaN              3           3.0            NaN  \n",
       "Pulp Fiction                 3.5              4           4.0            4.5  \n",
       "Anger Management             3.0              2           NaN            NaN  \n",
       "Fracture                     4.0              3           5.0            4.0  \n",
       "Serendipity                  2.5              2           3.5            1.0  \n",
       "Jerry Maguire                4.5              3           3.0            NaN  "
      ]
     },
     "execution_count": 9,
     "metadata": {},
     "output_type": "execute_result"
    }
   ],
   "source": [
    "ratings = pd.read_json('ratings.json')\n",
    "ratings"
   ]
  },
  {
   "cell_type": "markdown",
   "metadata": {},
   "source": [
    "### 输出为json格式"
   ]
  },
  {
   "cell_type": "code",
   "execution_count": 10,
   "metadata": {},
   "outputs": [
    {
     "data": {
      "text/plain": [
       "'[{\"John Carson\":2.5,\"Michelle Peterson\":3.0,\"William Reynolds\":2.5,\"Jillian Hobart\":null,\"Melissa Jones\":3,\"Alex Roberts\":3.0,\"Michael Henry\":null},{\"John Carson\":3.5,\"Michelle Peterson\":3.5,\"William Reynolds\":3.0,\"Jillian Hobart\":3.5,\"Melissa Jones\":4,\"Alex Roberts\":4.0,\"Michael Henry\":4.5},{\"John Carson\":3.0,\"Michelle Peterson\":1.5,\"William Reynolds\":null,\"Jillian Hobart\":3.0,\"Melissa Jones\":2,\"Alex Roberts\":null,\"Michael Henry\":null},{\"John Carson\":3.5,\"Michelle Peterson\":5.0,\"William Reynolds\":3.5,\"Jillian Hobart\":4.0,\"Melissa Jones\":3,\"Alex Roberts\":5.0,\"Michael Henry\":4.0},{\"John Carson\":2.5,\"Michelle Peterson\":3.5,\"William Reynolds\":null,\"Jillian Hobart\":2.5,\"Melissa Jones\":2,\"Alex Roberts\":3.5,\"Michael Henry\":1.0},{\"John Carson\":3.0,\"Michelle Peterson\":3.0,\"William Reynolds\":4.0,\"Jillian Hobart\":4.5,\"Melissa Jones\":3,\"Alex Roberts\":3.0,\"Michael Henry\":null}]'"
      ]
     },
     "execution_count": 10,
     "metadata": {},
     "output_type": "execute_result"
    }
   ],
   "source": [
    "# 列表套字典，抛弃了行索引\n",
    "json = ratings.to_json(orient='records')\n",
    "json"
   ]
  },
  {
   "cell_type": "code",
   "execution_count": 11,
   "metadata": {},
   "outputs": [
    {
     "data": {
      "text/plain": [
       "'{\"Inception\":{\"John Carson\":2.5,\"Michelle Peterson\":3.0,\"William Reynolds\":2.5,\"Jillian Hobart\":null,\"Melissa Jones\":3,\"Alex Roberts\":3.0,\"Michael Henry\":null},\"Pulp Fiction\":{\"John Carson\":3.5,\"Michelle Peterson\":3.5,\"William Reynolds\":3.0,\"Jillian Hobart\":3.5,\"Melissa Jones\":4,\"Alex Roberts\":4.0,\"Michael Henry\":4.5},\"Anger Management\":{\"John Carson\":3.0,\"Michelle Peterson\":1.5,\"William Reynolds\":null,\"Jillian Hobart\":3.0,\"Melissa Jones\":2,\"Alex Roberts\":null,\"Michael Henry\":null},\"Fracture\":{\"John Carson\":3.5,\"Michelle Peterson\":5.0,\"William Reynolds\":3.5,\"Jillian Hobart\":4.0,\"Melissa Jones\":3,\"Alex Roberts\":5.0,\"Michael Henry\":4.0},\"Serendipity\":{\"John Carson\":2.5,\"Michelle Peterson\":3.5,\"William Reynolds\":null,\"Jillian Hobart\":2.5,\"Melissa Jones\":2,\"Alex Roberts\":3.5,\"Michael Henry\":1.0},\"Jerry Maguire\":{\"John Carson\":3.0,\"Michelle Peterson\":3.0,\"William Reynolds\":4.0,\"Jillian Hobart\":4.5,\"Melissa Jones\":3,\"Alex Roberts\":3.0,\"Michael Henry\":null}}'"
      ]
     },
     "execution_count": 11,
     "metadata": {},
     "output_type": "execute_result"
    }
   ],
   "source": [
    "# 以行级为索引字典套字典\n",
    "json = ratings.to_json(orient='index')\n",
    "json"
   ]
  },
  {
   "cell_type": "code",
   "execution_count": 12,
   "metadata": {},
   "outputs": [
    {
     "data": {
      "text/plain": [
       "'{\"John Carson\":{\"Inception\":2.5,\"Pulp Fiction\":3.5,\"Anger Management\":3.0,\"Fracture\":3.5,\"Serendipity\":2.5,\"Jerry Maguire\":3.0},\"Michelle Peterson\":{\"Inception\":3.0,\"Pulp Fiction\":3.5,\"Anger Management\":1.5,\"Fracture\":5.0,\"Serendipity\":3.5,\"Jerry Maguire\":3.0},\"William Reynolds\":{\"Inception\":2.5,\"Pulp Fiction\":3.0,\"Anger Management\":null,\"Fracture\":3.5,\"Serendipity\":null,\"Jerry Maguire\":4.0},\"Jillian Hobart\":{\"Inception\":null,\"Pulp Fiction\":3.5,\"Anger Management\":3.0,\"Fracture\":4.0,\"Serendipity\":2.5,\"Jerry Maguire\":4.5},\"Melissa Jones\":{\"Inception\":3,\"Pulp Fiction\":4,\"Anger Management\":2,\"Fracture\":3,\"Serendipity\":2,\"Jerry Maguire\":3},\"Alex Roberts\":{\"Inception\":3.0,\"Pulp Fiction\":4.0,\"Anger Management\":null,\"Fracture\":5.0,\"Serendipity\":3.5,\"Jerry Maguire\":3.0},\"Michael Henry\":{\"Inception\":null,\"Pulp Fiction\":4.5,\"Anger Management\":null,\"Fracture\":4.0,\"Serendipity\":1.0,\"Jerry Maguire\":null}}'"
      ]
     },
     "execution_count": 12,
     "metadata": {},
     "output_type": "execute_result"
    }
   ],
   "source": [
    "# 以列级为索引字典套字典\n",
    "json = ratings.to_json(orient='columns')\n",
    "json"
   ]
  },
  {
   "cell_type": "code",
   "execution_count": 13,
   "metadata": {},
   "outputs": [
    {
     "data": {
      "text/plain": [
       "'[[2.5,3.0,2.5,null,3,3.0,null],[3.5,3.5,3.0,3.5,4,4.0,4.5],[3.0,1.5,null,3.0,2,null,null],[3.5,5.0,3.5,4.0,3,5.0,4.0],[2.5,3.5,null,2.5,2,3.5,1.0],[3.0,3.0,4.0,4.5,3,3.0,null]]'"
      ]
     },
     "execution_count": 13,
     "metadata": {},
     "output_type": "execute_result"
    }
   ],
   "source": [
    "# 列表套列表，抛弃了索引名称\n",
    "json = ratings.to_json(orient='values')\n",
    "json"
   ]
  }
 ],
 "metadata": {
  "kernelspec": {
   "display_name": "Python 3",
   "language": "python",
   "name": "python3"
  },
  "language_info": {
   "codemirror_mode": {
    "name": "ipython",
    "version": 3
   },
   "file_extension": ".py",
   "mimetype": "text/x-python",
   "name": "python",
   "nbconvert_exporter": "python",
   "pygments_lexer": "ipython3",
   "version": "3.8.9"
  }
 },
 "nbformat": 4,
 "nbformat_minor": 2
}
