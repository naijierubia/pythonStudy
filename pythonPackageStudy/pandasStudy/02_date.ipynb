{
 "cells": [
  {
   "cell_type": "code",
   "execution_count": 2,
   "metadata": {},
   "outputs": [],
   "source": [
    "import pandas as pd"
   ]
  },
  {
   "cell_type": "code",
   "execution_count": 3,
   "metadata": {},
   "outputs": [
    {
     "name": "stdout",
     "output_type": "stream",
     "text": [
      "0   2011-01-01 00:00:00\n",
      "1   2011-02-01 00:00:00\n",
      "2   2011-03-01 00:00:00\n",
      "3   2011-04-01 11:11:11\n",
      "4   2011-05-01 00:00:00\n",
      "5   2011-06-01 00:00:00\n",
      "dtype: datetime64[ns]\n"
     ]
    }
   ],
   "source": [
    "\"\"\" 日期类型 \"\"\"\n",
    "# 支持非常多格式，时间精确到ns\n",
    "dates = pd.Series(\n",
    "    [\"2011\", \"2011-2\", \"2011-03-01\", \"2011-04-01 11:11:11\", \"2011/5/1\", \"01 Jun 2011\"]\n",
    ")\n",
    "dates = pd.to_datetime(dates, format=\"mixed\")\n",
    "print(dates)"
   ]
  },
  {
   "cell_type": "code",
   "execution_count": 4,
   "metadata": {},
   "outputs": [
    {
     "name": "stdout",
     "output_type": "stream",
     "text": [
      "0    2011\n",
      "1    2011\n",
      "2    2011\n",
      "3    2011\n",
      "4    2011\n",
      "5    2011\n",
      "dtype: int32\n",
      "0    1\n",
      "1    2\n",
      "2    3\n",
      "3    4\n",
      "4    5\n",
      "5    6\n",
      "dtype: int32\n",
      "0    1\n",
      "1    1\n",
      "2    1\n",
      "3    1\n",
      "4    1\n",
      "5    1\n",
      "dtype: int32\n",
      "0     0\n",
      "1     0\n",
      "2     0\n",
      "3    11\n",
      "4     0\n",
      "5     0\n",
      "dtype: int32\n",
      "0     0\n",
      "1     0\n",
      "2     0\n",
      "3    11\n",
      "4     0\n",
      "5     0\n",
      "dtype: int32\n",
      "0     0\n",
      "1     0\n",
      "2     0\n",
      "3    11\n",
      "4     0\n",
      "5     0\n",
      "dtype: int32\n",
      "0    5\n",
      "1    1\n",
      "2    1\n",
      "3    4\n",
      "4    6\n",
      "5    2\n",
      "dtype: int32\n",
      "0    1\n",
      "1    1\n",
      "2    1\n",
      "3    2\n",
      "4    2\n",
      "5    2\n",
      "dtype: int32\n",
      "0      1\n",
      "1     32\n",
      "2     60\n",
      "3     91\n",
      "4    121\n",
      "5    152\n",
      "dtype: int32\n"
     ]
    }
   ],
   "source": [
    "\"\"\" Series.dt 提供了非常多种日期字段供访问 \"\"\"\n",
    "print(dates.dt.year)\n",
    "print(dates.dt.month)\n",
    "print(dates.dt.day)\n",
    "print(dates.dt.hour)\n",
    "print(dates.dt.minute)\n",
    "print(dates.dt.second)\n",
    "print(dates.dt.weekday)\n",
    "print(dates.dt.quarter)\n",
    "print(dates.dt.dayofyear)"
   ]
  },
  {
   "cell_type": "code",
   "execution_count": 5,
   "metadata": {},
   "outputs": [
    {
     "name": "stdout",
     "output_type": "stream",
     "text": [
      "0   4764 days 22:07:51.850471\n",
      "1   4733 days 22:07:51.850471\n",
      "2   4705 days 22:07:51.850471\n",
      "3   4674 days 10:56:40.850471\n",
      "4   4644 days 22:07:51.850471\n",
      "5   4613 days 22:07:51.850471\n",
      "dtype: timedelta64[ns]\n",
      "0    4764\n",
      "1    4733\n",
      "2    4705\n",
      "3    4674\n",
      "4    4644\n",
      "5    4613\n",
      "dtype: int64\n"
     ]
    }
   ],
   "source": [
    "\"\"\" 时间计算 \"\"\"\n",
    "delta = pd.to_datetime(\"now\") - dates\n",
    "print(delta)\n",
    "# 只有这个属性\n",
    "print(delta.dt.days)"
   ]
  },
  {
   "cell_type": "code",
   "execution_count": 6,
   "metadata": {},
   "outputs": [
    {
     "name": "stdout",
     "output_type": "stream",
     "text": [
      "DatetimeIndex(['2011-01-31', '2011-02-28', '2011-03-31'], dtype='datetime64[ns]', freq='M')\n",
      "DatetimeIndex(['2011-01-03', '2011-01-04', '2011-01-05', '2011-01-06',\n",
      "               '2011-01-07', '2011-01-10', '2011-01-11'],\n",
      "              dtype='datetime64[ns]', freq='B')\n",
      "DatetimeIndex(['2024-01-31', '2024-02-29', '2024-03-31', '2024-04-30',\n",
      "               '2024-05-31', '2024-06-30', '2024-07-31', '2024-08-31',\n",
      "               '2024-09-30', '2024-10-31', '2024-11-30', '2024-12-31'],\n",
      "              dtype='datetime64[ns]', freq='M')\n"
     ]
    }
   ],
   "source": [
    "\"\"\" 时间生成 \"\"\"\n",
    "# 默认单位是D\n",
    "# 跳转到月末\n",
    "dates_1 = pd.date_range(\"2011-01-01\", periods=3, freq=\"M\")\n",
    "print(dates_1)\n",
    "# 跳转工作日\n",
    "dates_2 = pd.date_range(\"2011-01-01\", periods=7, freq=\"B\")\n",
    "print(dates_2)\n",
    "# 指定起始点和终点生成\n",
    "dates_3 = pd.date_range(\"2024-01-01\", \"2024-12-31\", freq=\"M\")\n",
    "print(dates_3)"
   ]
  }
 ],
 "metadata": {
  "kernelspec": {
   "display_name": "Python 3",
   "language": "python",
   "name": "python3"
  },
  "language_info": {
   "codemirror_mode": {
    "name": "ipython",
    "version": 3
   },
   "file_extension": ".py",
   "mimetype": "text/x-python",
   "name": "python",
   "nbconvert_exporter": "python",
   "pygments_lexer": "ipython3",
   "version": "3.8.9"
  }
 },
 "nbformat": 4,
 "nbformat_minor": 2
}
