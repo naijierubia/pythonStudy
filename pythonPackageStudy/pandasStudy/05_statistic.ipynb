{
 "cells": [
  {
   "cell_type": "markdown",
   "metadata": {},
   "source": [
    "# 统计学分析"
   ]
  },
  {
   "cell_type": "code",
   "execution_count": 19,
   "metadata": {},
   "outputs": [],
   "source": [
    "import pandas as pd\n",
    "import numpy as np"
   ]
  },
  {
   "cell_type": "code",
   "execution_count": 20,
   "metadata": {},
   "outputs": [
    {
     "data": {
      "text/html": [
       "<div>\n",
       "<style scoped>\n",
       "    .dataframe tbody tr th:only-of-type {\n",
       "        vertical-align: middle;\n",
       "    }\n",
       "\n",
       "    .dataframe tbody tr th {\n",
       "        vertical-align: top;\n",
       "    }\n",
       "\n",
       "    .dataframe thead th {\n",
       "        text-align: right;\n",
       "    }\n",
       "</style>\n",
       "<table border=\"1\" class=\"dataframe\">\n",
       "  <thead>\n",
       "    <tr style=\"text-align: right;\">\n",
       "      <th></th>\n",
       "      <th>John Carson</th>\n",
       "      <th>Michelle Peterson</th>\n",
       "      <th>William Reynolds</th>\n",
       "      <th>Jillian Hobart</th>\n",
       "      <th>Melissa Jones</th>\n",
       "      <th>Alex Roberts</th>\n",
       "      <th>Michael Henry</th>\n",
       "    </tr>\n",
       "  </thead>\n",
       "  <tbody>\n",
       "    <tr>\n",
       "      <th>Inception</th>\n",
       "      <td>2.5</td>\n",
       "      <td>3.0</td>\n",
       "      <td>2.5</td>\n",
       "      <td>NaN</td>\n",
       "      <td>3</td>\n",
       "      <td>3.0</td>\n",
       "      <td>NaN</td>\n",
       "    </tr>\n",
       "    <tr>\n",
       "      <th>Pulp Fiction</th>\n",
       "      <td>3.5</td>\n",
       "      <td>3.5</td>\n",
       "      <td>3.0</td>\n",
       "      <td>3.5</td>\n",
       "      <td>4</td>\n",
       "      <td>4.0</td>\n",
       "      <td>4.5</td>\n",
       "    </tr>\n",
       "    <tr>\n",
       "      <th>Anger Management</th>\n",
       "      <td>3.0</td>\n",
       "      <td>1.5</td>\n",
       "      <td>NaN</td>\n",
       "      <td>3.0</td>\n",
       "      <td>2</td>\n",
       "      <td>NaN</td>\n",
       "      <td>NaN</td>\n",
       "    </tr>\n",
       "    <tr>\n",
       "      <th>Fracture</th>\n",
       "      <td>3.5</td>\n",
       "      <td>5.0</td>\n",
       "      <td>3.5</td>\n",
       "      <td>4.0</td>\n",
       "      <td>3</td>\n",
       "      <td>5.0</td>\n",
       "      <td>4.0</td>\n",
       "    </tr>\n",
       "    <tr>\n",
       "      <th>Serendipity</th>\n",
       "      <td>2.5</td>\n",
       "      <td>3.5</td>\n",
       "      <td>NaN</td>\n",
       "      <td>2.5</td>\n",
       "      <td>2</td>\n",
       "      <td>3.5</td>\n",
       "      <td>1.0</td>\n",
       "    </tr>\n",
       "    <tr>\n",
       "      <th>Jerry Maguire</th>\n",
       "      <td>3.0</td>\n",
       "      <td>3.0</td>\n",
       "      <td>4.0</td>\n",
       "      <td>4.5</td>\n",
       "      <td>3</td>\n",
       "      <td>3.0</td>\n",
       "      <td>NaN</td>\n",
       "    </tr>\n",
       "  </tbody>\n",
       "</table>\n",
       "</div>"
      ],
      "text/plain": [
       "                  John Carson  Michelle Peterson  William Reynolds  \\\n",
       "Inception                 2.5                3.0               2.5   \n",
       "Pulp Fiction              3.5                3.5               3.0   \n",
       "Anger Management          3.0                1.5               NaN   \n",
       "Fracture                  3.5                5.0               3.5   \n",
       "Serendipity               2.5                3.5               NaN   \n",
       "Jerry Maguire             3.0                3.0               4.0   \n",
       "\n",
       "                  Jillian Hobart  Melissa Jones  Alex Roberts  Michael Henry  \n",
       "Inception                    NaN              3           3.0            NaN  \n",
       "Pulp Fiction                 3.5              4           4.0            4.5  \n",
       "Anger Management             3.0              2           NaN            NaN  \n",
       "Fracture                     4.0              3           5.0            4.0  \n",
       "Serendipity                  2.5              2           3.5            1.0  \n",
       "Jerry Maguire                4.5              3           3.0            NaN  "
      ]
     },
     "execution_count": 20,
     "metadata": {},
     "output_type": "execute_result"
    }
   ],
   "source": [
    "ratings = pd.read_json('ratings.json')\n",
    "ratings"
   ]
  },
  {
   "cell_type": "markdown",
   "metadata": {},
   "source": [
    "## 算数平均值"
   ]
  },
  {
   "cell_type": "code",
   "execution_count": 21,
   "metadata": {},
   "outputs": [
    {
     "data": {
      "text/plain": [
       "John Carson          3.000000\n",
       "Michelle Peterson    3.250000\n",
       "William Reynolds     3.250000\n",
       "Jillian Hobart       3.500000\n",
       "Melissa Jones        2.833333\n",
       "Alex Roberts         3.700000\n",
       "Michael Henry        3.166667\n",
       "dtype: float64"
      ]
     },
     "execution_count": 21,
     "metadata": {},
     "output_type": "execute_result"
    }
   ],
   "source": [
    "# 几种调用算数平均值的方法\n",
    "# 计算每一列的平均值\n",
    "mean = ratings.mean()\n",
    "mean\n"
   ]
  },
  {
   "cell_type": "code",
   "execution_count": 22,
   "metadata": {},
   "outputs": [
    {
     "data": {
      "text/plain": [
       "Inception           2.800000\n",
       "Pulp Fiction        3.714286\n",
       "Anger Management    2.375000\n",
       "Fracture            4.000000\n",
       "Serendipity         2.500000\n",
       "Jerry Maguire       3.416667\n",
       "dtype: float64"
      ]
     },
     "execution_count": 22,
     "metadata": {},
     "output_type": "execute_result"
    }
   ],
   "source": [
    "# axis=1为计算行平均值\n",
    "mean = ratings.mean(axis=1)\n",
    "mean"
   ]
  },
  {
   "cell_type": "code",
   "execution_count": 23,
   "metadata": {},
   "outputs": [
    {
     "data": {
      "text/plain": [
       "2.8"
      ]
     },
     "execution_count": 23,
     "metadata": {},
     "output_type": "execute_result"
    }
   ],
   "source": [
    "# 计算特定列的平均值\n",
    "mean = np.mean(ratings.loc['Inception'])\n",
    "mean"
   ]
  },
  {
   "cell_type": "markdown",
   "metadata": {},
   "source": [
    "## 加权平均值\n",
    "加权平均值是一种统计学概念，用于衡量数据集中各数值的平均情况，但每个数值在计算过程中并非等同对待，而是依据其对应的权重进行调整。权重反映了每个数值的重要性或代表性程度。\n",
    "\n",
    "公式上，如果我们有一组数值 $ x_1, x_2, \\ldots, x_n $ 和对应的权重 $ w_1, w_2, \\ldots, w_n $，其中权重满足 $ w_i \\geq 0 $ 并且 $ \\sum_{i=1}^{n} w_i \\neq 0 $，那么这组数据的加权平均值 $ W $ 可以用以下公式计算：\n",
    "\n",
    "$$ \n",
    "W = \\frac{\\sum_{i=1}^{n} w_i \\cdot x_i}{\\sum_{i=1}^{n} w_i} \n",
    "$$\n"
   ]
  },
  {
   "cell_type": "code",
   "execution_count": 24,
   "metadata": {},
   "outputs": [
    {
     "data": {
      "text/plain": [
       "3.388888888888889"
      ]
     },
     "execution_count": 24,
     "metadata": {},
     "output_type": "execute_result"
    }
   ],
   "source": [
    "s = ratings.loc['Pulp Fiction']\n",
    "w = [2, 4, 8, 1, 1, 1, 1]\n",
    "ave = np.average(s, weights=w)\n",
    "ave"
   ]
  },
  {
   "cell_type": "markdown",
   "metadata": {},
   "source": [
    "## 最值"
   ]
  },
  {
   "cell_type": "code",
   "execution_count": 25,
   "metadata": {},
   "outputs": [
    {
     "data": {
      "text/plain": [
       "John Carson          2.5\n",
       "Michelle Peterson    1.5\n",
       "William Reynolds     2.5\n",
       "Jillian Hobart       2.5\n",
       "Melissa Jones        2.0\n",
       "Alex Roberts         3.0\n",
       "Michael Henry        1.0\n",
       "dtype: float64"
      ]
     },
     "execution_count": 25,
     "metadata": {},
     "output_type": "execute_result"
    }
   ],
   "source": [
    "# 最小值\n",
    "ratings.min()"
   ]
  },
  {
   "cell_type": "code",
   "execution_count": 26,
   "metadata": {},
   "outputs": [
    {
     "data": {
      "text/plain": [
       "John Carson                 Inception\n",
       "Michelle Peterson    Anger Management\n",
       "William Reynolds            Inception\n",
       "Jillian Hobart            Serendipity\n",
       "Melissa Jones        Anger Management\n",
       "Alex Roberts                Inception\n",
       "Michael Henry             Serendipity\n",
       "dtype: object"
      ]
     },
     "execution_count": 26,
     "metadata": {},
     "output_type": "execute_result"
    }
   ],
   "source": [
    "# 按照列比较返回极值的索引\n",
    "ratings.idxmax()\n",
    "ratings.idxmin()"
   ]
  },
  {
   "cell_type": "markdown",
   "metadata": {},
   "source": [
    "## 中位数"
   ]
  },
  {
   "cell_type": "code",
   "execution_count": 27,
   "metadata": {},
   "outputs": [
    {
     "data": {
      "text/plain": [
       "Inception           3.0\n",
       "Pulp Fiction        3.5\n",
       "Anger Management    2.5\n",
       "Fracture            4.0\n",
       "Serendipity         2.5\n",
       "Jerry Maguire       3.0\n",
       "dtype: float64"
      ]
     },
     "execution_count": 27,
     "metadata": {},
     "output_type": "execute_result"
    }
   ],
   "source": [
    "ratings.median(axis=1)"
   ]
  },
  {
   "cell_type": "markdown",
   "metadata": {},
   "source": [
    "## 众数"
   ]
  },
  {
   "cell_type": "code",
   "execution_count": 28,
   "metadata": {},
   "outputs": [
    {
     "data": {
      "text/plain": [
       "bmw     3\n",
       "bz      2\n",
       "audi    1\n",
       "Name: count, dtype: int64"
      ]
     },
     "execution_count": 28,
     "metadata": {},
     "output_type": "execute_result"
    }
   ],
   "source": [
    "s = pd.Series(['bmw', 'bmw', 'bz', 'bz', 'audi', 'bmw'])\n",
    "# 输出每个离散值的频数\n",
    "s.value_counts()"
   ]
  },
  {
   "cell_type": "code",
   "execution_count": 29,
   "metadata": {},
   "outputs": [
    {
     "data": {
      "text/plain": [
       "0    bmw\n",
       "dtype: object"
      ]
     },
     "execution_count": 29,
     "metadata": {},
     "output_type": "execute_result"
    }
   ],
   "source": [
    " # 数组这组离散数据的众数\n",
    "s.mode()  "
   ]
  },
  {
   "cell_type": "markdown",
   "metadata": {},
   "source": [
    "## 四分位数\n",
    "四分位数是统计学中衡量数据分布的一个重要概念，它是将一组数据从小到大排列后，将其等分为四等份的三个切点。\n",
    "\n",
    "1. **第一四分位数（Q1）**：也称为下四分位数，它是一组数据中所有数值中最小的25%数值的上限，即数据集中间位置的数值，使得至少有25%的数据点不大于这个值。\n",
    "\n",
    "2. **第二四分位数（Q2）**：也就是中位数（Median），将数据集一分为二，一半的数据点小于或等于它，另一半的数据点大于或等于它。\n",
    "\n",
    "3. **第三四分位数（Q3）**：也称为上四分位数，它是一组数据中所有数值中最小的75%数值的上限，即数据集中至少有75%的数据点不大于这个值。\n",
    "\n",
    "四分位数常用于描述数据的集中趋势和分布特征，特别是在处理偏斜分布或者存在异常值的数据时，中位数和四分位数比平均数更能反映数据的典型水平。此外，四分位距（IQR，即Q3-Q1）可以用来度量数据的离散程度。"
   ]
  },
  {
   "cell_type": "code",
   "execution_count": 30,
   "metadata": {},
   "outputs": [
    {
     "data": {
      "text/html": [
       "<div>\n",
       "<style scoped>\n",
       "    .dataframe tbody tr th:only-of-type {\n",
       "        vertical-align: middle;\n",
       "    }\n",
       "\n",
       "    .dataframe tbody tr th {\n",
       "        vertical-align: top;\n",
       "    }\n",
       "\n",
       "    .dataframe thead th {\n",
       "        text-align: right;\n",
       "    }\n",
       "</style>\n",
       "<table border=\"1\" class=\"dataframe\">\n",
       "  <thead>\n",
       "    <tr style=\"text-align: right;\">\n",
       "      <th></th>\n",
       "      <th>John Carson</th>\n",
       "      <th>Michelle Peterson</th>\n",
       "      <th>William Reynolds</th>\n",
       "      <th>Jillian Hobart</th>\n",
       "      <th>Melissa Jones</th>\n",
       "      <th>Alex Roberts</th>\n",
       "      <th>Michael Henry</th>\n",
       "    </tr>\n",
       "  </thead>\n",
       "  <tbody>\n",
       "    <tr>\n",
       "      <th>0.00</th>\n",
       "      <td>2.500</td>\n",
       "      <td>1.50</td>\n",
       "      <td>2.500</td>\n",
       "      <td>2.5</td>\n",
       "      <td>2.00</td>\n",
       "      <td>3.0</td>\n",
       "      <td>1.00</td>\n",
       "    </tr>\n",
       "    <tr>\n",
       "      <th>0.25</th>\n",
       "      <td>2.625</td>\n",
       "      <td>3.00</td>\n",
       "      <td>2.875</td>\n",
       "      <td>3.0</td>\n",
       "      <td>2.25</td>\n",
       "      <td>3.0</td>\n",
       "      <td>2.50</td>\n",
       "    </tr>\n",
       "    <tr>\n",
       "      <th>0.50</th>\n",
       "      <td>3.000</td>\n",
       "      <td>3.25</td>\n",
       "      <td>3.250</td>\n",
       "      <td>3.5</td>\n",
       "      <td>3.00</td>\n",
       "      <td>3.5</td>\n",
       "      <td>4.00</td>\n",
       "    </tr>\n",
       "    <tr>\n",
       "      <th>0.75</th>\n",
       "      <td>3.375</td>\n",
       "      <td>3.50</td>\n",
       "      <td>3.625</td>\n",
       "      <td>4.0</td>\n",
       "      <td>3.00</td>\n",
       "      <td>4.0</td>\n",
       "      <td>4.25</td>\n",
       "    </tr>\n",
       "    <tr>\n",
       "      <th>1.00</th>\n",
       "      <td>3.500</td>\n",
       "      <td>5.00</td>\n",
       "      <td>4.000</td>\n",
       "      <td>4.5</td>\n",
       "      <td>4.00</td>\n",
       "      <td>5.0</td>\n",
       "      <td>4.50</td>\n",
       "    </tr>\n",
       "  </tbody>\n",
       "</table>\n",
       "</div>"
      ],
      "text/plain": [
       "      John Carson  Michelle Peterson  William Reynolds  Jillian Hobart  \\\n",
       "0.00        2.500               1.50             2.500             2.5   \n",
       "0.25        2.625               3.00             2.875             3.0   \n",
       "0.50        3.000               3.25             3.250             3.5   \n",
       "0.75        3.375               3.50             3.625             4.0   \n",
       "1.00        3.500               5.00             4.000             4.5   \n",
       "\n",
       "      Melissa Jones  Alex Roberts  Michael Henry  \n",
       "0.00           2.00           3.0           1.00  \n",
       "0.25           2.25           3.0           2.50  \n",
       "0.50           3.00           3.5           4.00  \n",
       "0.75           3.00           4.0           4.25  \n",
       "1.00           4.00           5.0           4.50  "
      ]
     },
     "execution_count": 30,
     "metadata": {},
     "output_type": "execute_result"
    }
   ],
   "source": [
    "ratings.quantile([.0, .25, .5, .75, 1.])"
   ]
  },
  {
   "cell_type": "markdown",
   "metadata": {},
   "source": [
    "## 标准差\n",
    "标准差（Standard Deviation）是统计学中衡量数据分布离散程度的一个重要指标。它表示的是一个数据集中的各个观测值与均值（平均数）之间差异的平均程度，通常用来反映数据点在均值周围波动的程度。\n",
    "\n",
    "具体来说，标准差是每个数据点与均值之差的平方的平均数（即方差）的算术平方根。数学公式如下：\n",
    "\n",
    "- 对于样本标准差 $ s $ 的计算：\n",
    "$$ s = \\sqrt{\\frac{1}{n-1} \\sum_{i=1}^{n} (x_i - \\bar{x})^2} $$\n",
    "其中 $ x_i $ 表示样本中的第 $ i $ 个观测值，$ \\bar{x} $ 是样本均值，$ n $ 是样本容量，分母使用 $ n-1 $ 是为了得到无偏估计（Bessel's correction）。\n",
    "\n",
    "- 对于总体标准差 $ \\sigma $ 的计算（如果我们知道整个总体的数据时）：\n",
    "$$ \\sigma = \\sqrt{\\frac{1}{N} \\sum_{i=1}^{N} (X_i - \\mu)^2} $$\n",
    "其中 $ X_i $ 是总体中的第 $ i $ 个观测值，$ \\mu $ 是总体均值，$ N $ 是总体大小，这里的分母直接用 $ N $ 而不是 $ N-1 $。\n",
    "\n",
    "标准差越大，说明数据点分布得越分散；标准差越小，则意味着数据点更集中地分布在均值附近。在金融、自然科学、社会科学等多个领域，标准差常用于风险评估、置信区间的计算以及描述随机变量的不确定性等场合。"
   ]
  },
  {
   "cell_type": "code",
   "execution_count": 31,
   "metadata": {},
   "outputs": [
    {
     "data": {
      "text/plain": [
       "0.408248290463863"
      ]
     },
     "execution_count": 31,
     "metadata": {},
     "output_type": "execute_result"
    }
   ],
   "source": [
    "# 总体标准差\n",
    "np.std(ratings['John Carson'])"
   ]
  },
  {
   "cell_type": "code",
   "execution_count": 32,
   "metadata": {},
   "outputs": [
    {
     "data": {
      "text/plain": [
       "0.5773502691896257"
      ]
     },
     "execution_count": 32,
     "metadata": {},
     "output_type": "execute_result"
    }
   ],
   "source": [
    "# 样本标准差，为了修正样本方差过小的问题，numpy可以指定减多少\n",
    "np.std(ratings['John Carson'], ddof=3)"
   ]
  },
  {
   "cell_type": "markdown",
   "metadata": {},
   "source": [
    "## 协方差\n",
    "协方差（Covariance）是统计学中衡量两个随机变量之间线性相关程度的指标。它反映的是当一个随机变量的值增大（减小）时，另一个随机变量的值倾向于增大（减小）的程度。\n",
    "\n",
    "数学公式上，对于两个随机变量 $ X $ 和 $ Y $，其协方差定义为：\n",
    "\n",
    "$$ Cov(X, Y) = E[(X - E[X])(Y - E[Y])] $$\n",
    "\n",
    "其中：\n",
    "- $ E[X] $ 表示随机变量 $ X $ 的期望值（平均值），\n",
    "- $ E[Y] $ 表示随机变量 $ Y $ 的期望值，\n",
    "- $ E[(X - E[X])(Y - E[Y])] $ 是这两个随机变量与各自期望值之差的乘积的期望值。\n",
    "\n",
    "协方差的取值范围没有限制，正数表示两者呈正相关（即一个变大时，另一个也倾向于变大），负数表示负相关（一个变大时，另一个倾向于变小），而协方差为0则表示两者在统计上相互独立或不相关。\n",
    "\n",
    "此外，协方差的绝对值大小并不直接反映相关性的强度，为了得到标准化、易于比较的相关度量，通常会计算相关系数（Correlation Coefficient），它是通过将协方差除以两个变量的标准差的乘积进行无量纲化处理得到的结果。"
   ]
  },
  {
   "cell_type": "code",
   "execution_count": 33,
   "metadata": {},
   "outputs": [
    {
     "name": "stdout",
     "output_type": "stream",
     "text": [
      "                  John Carson  Michelle Peterson  William Reynolds  \\\n",
      "Inception                 2.5                3.0               2.5   \n",
      "Pulp Fiction              3.5                3.5               3.0   \n",
      "Anger Management          3.0                1.5               NaN   \n",
      "Fracture                  3.5                5.0               3.5   \n",
      "Serendipity               2.5                3.5               NaN   \n",
      "Jerry Maguire             3.0                3.0               4.0   \n",
      "\n",
      "                  Jillian Hobart  Melissa Jones  Alex Roberts  Michael Henry  \n",
      "Inception                    NaN              3           3.0            NaN  \n",
      "Pulp Fiction                 3.5              4           4.0            4.5  \n",
      "Anger Management             3.0              2           NaN            NaN  \n",
      "Fracture                     4.0              3           5.0            4.0  \n",
      "Serendipity                  2.5              2           3.5            1.0  \n",
      "Jerry Maguire                4.5              3           3.0            NaN  \n"
     ]
    },
    {
     "data": {
      "text/plain": [
       "array([[0.2  , 0.2  ],\n",
       "       [0.2  , 1.275]])"
      ]
     },
     "execution_count": 33,
     "metadata": {},
     "output_type": "execute_result"
    }
   ],
   "source": [
    "print(ratings)\n",
    "a = ratings['John Carson']\n",
    "b = ratings['Michelle Peterson']\n",
    "np.cov(a, b)\n"
   ]
  },
  {
   "cell_type": "code",
   "execution_count": 35,
   "metadata": {},
   "outputs": [
    {
     "data": {
      "text/html": [
       "<div>\n",
       "<style scoped>\n",
       "    .dataframe tbody tr th:only-of-type {\n",
       "        vertical-align: middle;\n",
       "    }\n",
       "\n",
       "    .dataframe tbody tr th {\n",
       "        vertical-align: top;\n",
       "    }\n",
       "\n",
       "    .dataframe thead th {\n",
       "        text-align: right;\n",
       "    }\n",
       "</style>\n",
       "<table border=\"1\" class=\"dataframe\">\n",
       "  <thead>\n",
       "    <tr style=\"text-align: right;\">\n",
       "      <th></th>\n",
       "      <th>John Carson</th>\n",
       "      <th>Michelle Peterson</th>\n",
       "      <th>William Reynolds</th>\n",
       "      <th>Jillian Hobart</th>\n",
       "      <th>Melissa Jones</th>\n",
       "      <th>Alex Roberts</th>\n",
       "      <th>Michael Henry</th>\n",
       "    </tr>\n",
       "  </thead>\n",
       "  <tbody>\n",
       "    <tr>\n",
       "      <th>John Carson</th>\n",
       "      <td>0.200000</td>\n",
       "      <td>0.2000</td>\n",
       "      <td>0.125000</td>\n",
       "      <td>0.187500</td>\n",
       "      <td>0.200000</td>\n",
       "      <td>0.312500</td>\n",
       "      <td>1.083333</td>\n",
       "    </tr>\n",
       "    <tr>\n",
       "      <th>Michelle Peterson</th>\n",
       "      <td>0.200000</td>\n",
       "      <td>1.2750</td>\n",
       "      <td>0.125000</td>\n",
       "      <td>0.312500</td>\n",
       "      <td>0.350000</td>\n",
       "      <td>0.662500</td>\n",
       "      <td>0.625000</td>\n",
       "    </tr>\n",
       "    <tr>\n",
       "      <th>William Reynolds</th>\n",
       "      <td>0.125000</td>\n",
       "      <td>0.1250</td>\n",
       "      <td>0.416667</td>\n",
       "      <td>0.250000</td>\n",
       "      <td>-0.083333</td>\n",
       "      <td>0.083333</td>\n",
       "      <td>-0.125000</td>\n",
       "    </tr>\n",
       "    <tr>\n",
       "      <th>Jillian Hobart</th>\n",
       "      <td>0.187500</td>\n",
       "      <td>0.3125</td>\n",
       "      <td>0.250000</td>\n",
       "      <td>0.625000</td>\n",
       "      <td>0.375000</td>\n",
       "      <td>0.020833</td>\n",
       "      <td>1.291667</td>\n",
       "    </tr>\n",
       "    <tr>\n",
       "      <th>Melissa Jones</th>\n",
       "      <td>0.200000</td>\n",
       "      <td>0.3500</td>\n",
       "      <td>-0.083333</td>\n",
       "      <td>0.375000</td>\n",
       "      <td>0.566667</td>\n",
       "      <td>0.125000</td>\n",
       "      <td>1.750000</td>\n",
       "    </tr>\n",
       "    <tr>\n",
       "      <th>Alex Roberts</th>\n",
       "      <td>0.312500</td>\n",
       "      <td>0.6625</td>\n",
       "      <td>0.083333</td>\n",
       "      <td>0.020833</td>\n",
       "      <td>0.125000</td>\n",
       "      <td>0.700000</td>\n",
       "      <td>0.958333</td>\n",
       "    </tr>\n",
       "    <tr>\n",
       "      <th>Michael Henry</th>\n",
       "      <td>1.083333</td>\n",
       "      <td>0.6250</td>\n",
       "      <td>-0.125000</td>\n",
       "      <td>1.291667</td>\n",
       "      <td>1.750000</td>\n",
       "      <td>0.958333</td>\n",
       "      <td>3.583333</td>\n",
       "    </tr>\n",
       "  </tbody>\n",
       "</table>\n",
       "</div>"
      ],
      "text/plain": [
       "                   John Carson  Michelle Peterson  William Reynolds  \\\n",
       "John Carson           0.200000             0.2000          0.125000   \n",
       "Michelle Peterson     0.200000             1.2750          0.125000   \n",
       "William Reynolds      0.125000             0.1250          0.416667   \n",
       "Jillian Hobart        0.187500             0.3125          0.250000   \n",
       "Melissa Jones         0.200000             0.3500         -0.083333   \n",
       "Alex Roberts          0.312500             0.6625          0.083333   \n",
       "Michael Henry         1.083333             0.6250         -0.125000   \n",
       "\n",
       "                   Jillian Hobart  Melissa Jones  Alex Roberts  Michael Henry  \n",
       "John Carson              0.187500       0.200000      0.312500       1.083333  \n",
       "Michelle Peterson        0.312500       0.350000      0.662500       0.625000  \n",
       "William Reynolds         0.250000      -0.083333      0.083333      -0.125000  \n",
       "Jillian Hobart           0.625000       0.375000      0.020833       1.291667  \n",
       "Melissa Jones            0.375000       0.566667      0.125000       1.750000  \n",
       "Alex Roberts             0.020833       0.125000      0.700000       0.958333  \n",
       "Michael Henry            1.291667       1.750000      0.958333       3.583333  "
      ]
     },
     "execution_count": 35,
     "metadata": {},
     "output_type": "execute_result"
    }
   ],
   "source": [
    "ratings.cov()"
   ]
  },
  {
   "cell_type": "markdown",
   "metadata": {},
   "source": [
    "## 相关系数\n",
    "相关系数（Correlation Coefficient）是统计学中衡量两个变量之间线性关联强度和方向的指标。最常见的是皮尔逊相关系数（Pearson correlation coefficient），通常表示为 $ r $ 或 $ \\rho $，它的值介于-1与+1之间：\n",
    "\n",
    "- 当 $ r = 1 $ 时，表示两个变量之间有完美的正线性相关关系，即一个变量增加时，另一个变量以确定的比例增加。\n",
    "- 当 $ r = -1 $ 时，表示两个变量之间有完美的负线性相关关系，即一个变量增加时，另一个变量以确定的比例减少。\n",
    "- 当 $ r = 0 $ 时，表示两个变量之间没有线性相关关系。\n",
    "\n",
    "皮尔逊相关系数计算公式如下：\n",
    "\n",
    "$$ r_{xy} = \\frac{\\sum_{i=1}^{n}(x_i - \\bar{x})(y_i - \\bar{y})}{\\sqrt{\\sum_{i=1}^{n}(x_i - \\bar{x})^2}\\sqrt{\\sum_{i=1}^{n}(y_i - \\bar{y})^2}} $$\n",
    "\n",
    "其中：\n",
    "- $ x_i $ 和 $ y_i $ 是数据集中对应的两个变量的观测值；\n",
    "- $ \\bar{x} $ 和 $ \\bar{y} $ 分别是变量 $ X $ 和 $ Y $ 的样本均值；\n",
    "- $ n $ 是观测值的数量。\n",
    "\n",
    "即相关数据为两组数据的协方差除以两组数据各自标准差的乘积"
   ]
  },
  {
   "cell_type": "code",
   "execution_count": 34,
   "metadata": {},
   "outputs": [
    {
     "data": {
      "text/plain": [
       "array([[1.        , 0.39605902],\n",
       "       [0.39605902, 1.        ]])"
      ]
     },
     "execution_count": 34,
     "metadata": {},
     "output_type": "execute_result"
    }
   ],
   "source": [
    "np.corrcoef(a, b)"
   ]
  },
  {
   "cell_type": "code",
   "execution_count": 36,
   "metadata": {},
   "outputs": [
    {
     "data": {
      "text/html": [
       "<div>\n",
       "<style scoped>\n",
       "    .dataframe tbody tr th:only-of-type {\n",
       "        vertical-align: middle;\n",
       "    }\n",
       "\n",
       "    .dataframe tbody tr th {\n",
       "        vertical-align: top;\n",
       "    }\n",
       "\n",
       "    .dataframe thead th {\n",
       "        text-align: right;\n",
       "    }\n",
       "</style>\n",
       "<table border=\"1\" class=\"dataframe\">\n",
       "  <thead>\n",
       "    <tr style=\"text-align: right;\">\n",
       "      <th></th>\n",
       "      <th>John Carson</th>\n",
       "      <th>Michelle Peterson</th>\n",
       "      <th>William Reynolds</th>\n",
       "      <th>Jillian Hobart</th>\n",
       "      <th>Melissa Jones</th>\n",
       "      <th>Alex Roberts</th>\n",
       "      <th>Michael Henry</th>\n",
       "    </tr>\n",
       "  </thead>\n",
       "  <tbody>\n",
       "    <tr>\n",
       "      <th>John Carson</th>\n",
       "      <td>1.000000</td>\n",
       "      <td>0.396059</td>\n",
       "      <td>0.404520</td>\n",
       "      <td>0.566947</td>\n",
       "      <td>0.594089</td>\n",
       "      <td>0.747018</td>\n",
       "      <td>0.991241</td>\n",
       "    </tr>\n",
       "    <tr>\n",
       "      <th>Michelle Peterson</th>\n",
       "      <td>0.396059</td>\n",
       "      <td>1.000000</td>\n",
       "      <td>0.204598</td>\n",
       "      <td>0.314970</td>\n",
       "      <td>0.411765</td>\n",
       "      <td>0.963796</td>\n",
       "      <td>0.381246</td>\n",
       "    </tr>\n",
       "    <tr>\n",
       "      <th>William Reynolds</th>\n",
       "      <td>0.404520</td>\n",
       "      <td>0.204598</td>\n",
       "      <td>1.000000</td>\n",
       "      <td>1.000000</td>\n",
       "      <td>-0.258199</td>\n",
       "      <td>0.134840</td>\n",
       "      <td>-1.000000</td>\n",
       "    </tr>\n",
       "    <tr>\n",
       "      <th>Jillian Hobart</th>\n",
       "      <td>0.566947</td>\n",
       "      <td>0.314970</td>\n",
       "      <td>1.000000</td>\n",
       "      <td>1.000000</td>\n",
       "      <td>0.566947</td>\n",
       "      <td>0.028571</td>\n",
       "      <td>0.893405</td>\n",
       "    </tr>\n",
       "    <tr>\n",
       "      <th>Melissa Jones</th>\n",
       "      <td>0.594089</td>\n",
       "      <td>0.411765</td>\n",
       "      <td>-0.258199</td>\n",
       "      <td>0.566947</td>\n",
       "      <td>1.000000</td>\n",
       "      <td>0.211289</td>\n",
       "      <td>0.924473</td>\n",
       "    </tr>\n",
       "    <tr>\n",
       "      <th>Alex Roberts</th>\n",
       "      <td>0.747018</td>\n",
       "      <td>0.963796</td>\n",
       "      <td>0.134840</td>\n",
       "      <td>0.028571</td>\n",
       "      <td>0.211289</td>\n",
       "      <td>1.000000</td>\n",
       "      <td>0.662849</td>\n",
       "    </tr>\n",
       "    <tr>\n",
       "      <th>Michael Henry</th>\n",
       "      <td>0.991241</td>\n",
       "      <td>0.381246</td>\n",
       "      <td>-1.000000</td>\n",
       "      <td>0.893405</td>\n",
       "      <td>0.924473</td>\n",
       "      <td>0.662849</td>\n",
       "      <td>1.000000</td>\n",
       "    </tr>\n",
       "  </tbody>\n",
       "</table>\n",
       "</div>"
      ],
      "text/plain": [
       "                   John Carson  Michelle Peterson  William Reynolds  \\\n",
       "John Carson           1.000000           0.396059          0.404520   \n",
       "Michelle Peterson     0.396059           1.000000          0.204598   \n",
       "William Reynolds      0.404520           0.204598          1.000000   \n",
       "Jillian Hobart        0.566947           0.314970          1.000000   \n",
       "Melissa Jones         0.594089           0.411765         -0.258199   \n",
       "Alex Roberts          0.747018           0.963796          0.134840   \n",
       "Michael Henry         0.991241           0.381246         -1.000000   \n",
       "\n",
       "                   Jillian Hobart  Melissa Jones  Alex Roberts  Michael Henry  \n",
       "John Carson              0.566947       0.594089      0.747018       0.991241  \n",
       "Michelle Peterson        0.314970       0.411765      0.963796       0.381246  \n",
       "William Reynolds         1.000000      -0.258199      0.134840      -1.000000  \n",
       "Jillian Hobart           1.000000       0.566947      0.028571       0.893405  \n",
       "Melissa Jones            0.566947       1.000000      0.211289       0.924473  \n",
       "Alex Roberts             0.028571       0.211289      1.000000       0.662849  \n",
       "Michael Henry            0.893405       0.924473      0.662849       1.000000  "
      ]
     },
     "execution_count": 36,
     "metadata": {},
     "output_type": "execute_result"
    }
   ],
   "source": [
    "ratings.corr()"
   ]
  }
 ],
 "metadata": {
  "kernelspec": {
   "display_name": "Python 3",
   "language": "python",
   "name": "python3"
  },
  "language_info": {
   "codemirror_mode": {
    "name": "ipython",
    "version": 3
   },
   "file_extension": ".py",
   "mimetype": "text/x-python",
   "name": "python",
   "nbconvert_exporter": "python",
   "pygments_lexer": "ipython3",
   "version": "3.8.9"
  }
 },
 "nbformat": 4,
 "nbformat_minor": 2
}
