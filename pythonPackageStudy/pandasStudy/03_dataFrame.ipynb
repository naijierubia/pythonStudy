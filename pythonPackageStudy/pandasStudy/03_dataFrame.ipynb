{
 "cells": [
  {
   "cell_type": "code",
   "execution_count": 29,
   "metadata": {},
   "outputs": [
    {
     "data": {
      "text/plain": [
       "' 二维表格数据，索引分为两个维度 '"
      ]
     },
     "execution_count": 29,
     "metadata": {},
     "output_type": "execute_result"
    }
   ],
   "source": [
    "import pandas as pd\n",
    "import numpy as np\n",
    "\n",
    "\"\"\" 二维表格数据，索引分为两个维度 \"\"\""
   ]
  },
  {
   "cell_type": "markdown",
   "metadata": {},
   "source": [
    "# 数据创建\n",
    "\n",
    "## 一维数组创建\n"
   ]
  },
  {
   "cell_type": "code",
   "execution_count": 30,
   "metadata": {},
   "outputs": [
    {
     "name": "stdout",
     "output_type": "stream",
     "text": [
      "    A\n",
      "a   1\n",
      "b   2\n",
      "c   3\n",
      "d   4\n",
      "e   5\n",
      "f   6\n",
      "g   7\n",
      "h   8\n",
      "i   9\n",
      "j  10\n"
     ]
    }
   ],
   "source": [
    "data = [1, 2, 3, 4, 5, 6, 7, 8, 9, 10]\n",
    "df = pd.DataFrame(\n",
    "    data, index=[\"a\", \"b\", \"c\", \"d\", \"e\", \"f\", \"g\", \"h\", \"i\", \"j\"], columns=[\"A\"]\n",
    ")\n",
    "print(df)"
   ]
  },
  {
   "cell_type": "markdown",
   "metadata": {},
   "source": [
    "## 列表创建\n"
   ]
  },
  {
   "cell_type": "code",
   "execution_count": 31,
   "metadata": {},
   "outputs": [
    {
     "name": "stdout",
     "output_type": "stream",
     "text": [
      "     Name  Age\n",
      "a    Alex   12\n",
      "b     Bob   15\n",
      "c  Clarke   14\n"
     ]
    }
   ],
   "source": [
    "data = [[\"Alex\", 12], [\"Bob\", 15], [\"Clarke\", 14]]\n",
    "df = pd.DataFrame(data, index=[\"a\", \"b\", \"c\"], columns=[\"Name\", \"Age\"])\n",
    "print(df)"
   ]
  },
  {
   "cell_type": "markdown",
   "metadata": {},
   "source": [
    "## 字典创建\n"
   ]
  },
  {
   "cell_type": "code",
   "execution_count": 32,
   "metadata": {},
   "outputs": [
    {
     "name": "stdout",
     "output_type": "stream",
     "text": [
      "   a  b    c\n",
      "0  1  2  NaN\n",
      "1  3  5  7.0\n",
      "      Name  Age\n",
      "S01   Alex   12\n",
      "S02    Bob   13\n",
      "S03  Clark   14\n"
     ]
    }
   ],
   "source": [
    "# 没有值为NaN\n",
    "data = [{\"a\": 1, \"b\": 2}, {\"a\": 3, \"b\": 5, \"c\": 7}]\n",
    "df = pd.DataFrame(data)\n",
    "print(df)\n",
    "\n",
    "data = {\"Name\": [\"Alex\", \"Bob\", \"Clark\"], \"Age\": [12, 13, 14]}\n",
    "df = pd.DataFrame(data, index=[\"S01\", \"S02\", \"S03\"])\n",
    "print(df)"
   ]
  },
  {
   "cell_type": "code",
   "execution_count": 33,
   "metadata": {},
   "outputs": [
    {
     "name": "stdout",
     "output_type": "stream",
     "text": [
      "   one  two\n",
      "a  1.0  NaN\n",
      "c  2.0  NaN\n",
      "d  3.0  NaN\n",
      "e  NaN  1.0\n",
      "f  NaN  2.0\n",
      "g  NaN  3.0\n",
      "h  NaN  4.0\n"
     ]
    }
   ],
   "source": [
    "data = {\n",
    "    \"one\": pd.Series([1, 2, 3], index=[\"a\", \"c\", \"d\"]),\n",
    "    \"two\": pd.Series([1, 2, 3, 4], index=[\"e\", \"f\", \"g\", \"h\"]),\n",
    "}\n",
    "df = pd.DataFrame(data)\n",
    "print(df)"
   ]
  },
  {
   "cell_type": "markdown",
   "metadata": {},
   "source": [
    "# property\n"
   ]
  },
  {
   "cell_type": "code",
   "execution_count": 34,
   "metadata": {},
   "outputs": [
    {
     "name": "stdout",
     "output_type": "stream",
     "text": [
      "Index(['a', 'c', 'd', 'e', 'f', 'g', 'h'], dtype='object')\n",
      "Index(['one', 'two'], dtype='object')\n",
      "[[ 1. nan]\n",
      " [ 2. nan]\n",
      " [ 3. nan]\n",
      " [nan  1.]\n",
      " [nan  2.]\n",
      " [nan  3.]\n",
      " [nan  4.]]\n",
      "   one  two\n",
      "a  1.0  NaN\n",
      "c  2.0  NaN\n",
      "   one  two\n",
      "g  NaN  3.0\n",
      "h  NaN  4.0\n"
     ]
    }
   ],
   "source": [
    "print(df.index)\n",
    "print(df.columns)\n",
    "print(df.values)\n",
    "print(df.head(2))\n",
    "print(df.tail(2))"
   ]
  },
  {
   "cell_type": "markdown",
   "metadata": {},
   "source": [
    "# 操作 dataFrame 的操作\n"
   ]
  },
  {
   "cell_type": "markdown",
   "metadata": {},
   "source": [
    "## 列操作\n"
   ]
  },
  {
   "cell_type": "markdown",
   "metadata": {},
   "source": [
    "### 读取列\n"
   ]
  },
  {
   "cell_type": "code",
   "execution_count": 35,
   "metadata": {},
   "outputs": [
    {
     "name": "stdout",
     "output_type": "stream",
     "text": [
      "   one  two  three\n",
      "a  1.0    1    1.0\n",
      "b  2.0    2    NaN\n",
      "c  3.0    3    3.0\n",
      "d  NaN    4    4.0\n",
      "a    1.0\n",
      "b    2.0\n",
      "c    3.0\n",
      "d    NaN\n",
      "Name: one, dtype: float64\n",
      "   one  three\n",
      "a  1.0    1.0\n",
      "b  2.0    NaN\n",
      "c  3.0    3.0\n",
      "d  NaN    4.0\n",
      "   one  two\n",
      "a  1.0    1\n",
      "b  2.0    2\n",
      "c  3.0    3\n",
      "d  NaN    4\n"
     ]
    }
   ],
   "source": [
    "d = {\n",
    "    \"one\": pd.Series([1, 2, 3], index=[\"a\", \"b\", \"c\"]),\n",
    "    \"two\": pd.Series([1, 2, 3, 4], index=[\"a\", \"b\", \"c\", \"d\"]),\n",
    "    \"three\": pd.Series([1, 3, 4], index=[\"a\", \"c\", \"d\"]),\n",
    "}\n",
    "df = pd.DataFrame(d)\n",
    "print(df)\n",
    "print(df[\"one\"])\n",
    "print(df[[\"one\", \"three\"]])\n",
    "print(df[df.columns[:2]])"
   ]
  },
  {
   "cell_type": "markdown",
   "metadata": {},
   "source": [
    "### 添加列\n"
   ]
  },
  {
   "cell_type": "code",
   "execution_count": 36,
   "metadata": {},
   "outputs": [
    {
     "name": "stdout",
     "output_type": "stream",
     "text": [
      "   one  two  three\n",
      "a  1.0    1    1.0\n",
      "b  2.0    2    NaN\n",
      "c  3.0    3    3.0\n",
      "d  NaN    4    4.0\n",
      "   one  two  three  four\n",
      "a  1.0    1    1.0   NaN\n",
      "b  2.0    2    NaN   1.0\n",
      "c  3.0    3    3.0   2.0\n",
      "d  NaN    4    4.0   3.0\n"
     ]
    }
   ],
   "source": [
    "print(df)\n",
    "df[\"four\"] = pd.Series([1, 2, 3], index=[\"b\", \"c\", \"d\"])\n",
    "print(df)"
   ]
  },
  {
   "cell_type": "markdown",
   "metadata": {},
   "source": [
    "### 删除列\n"
   ]
  },
  {
   "cell_type": "code",
   "execution_count": 37,
   "metadata": {},
   "outputs": [
    {
     "name": "stdout",
     "output_type": "stream",
     "text": [
      "   one  two  three  four\n",
      "a  1.0    1    1.0   NaN\n",
      "b  2.0    2    NaN   1.0\n",
      "c  3.0    3    3.0   2.0\n",
      "d  NaN    4    4.0   3.0\n",
      "   three  four\n",
      "a    1.0   NaN\n",
      "b    NaN   1.0\n",
      "c    3.0   2.0\n",
      "d    4.0   3.0\n"
     ]
    }
   ],
   "source": [
    "print(df)\n",
    "df2 = df.drop([\"one\", \"two\"], axis=1)\n",
    "print(df2)"
   ]
  },
  {
   "cell_type": "markdown",
   "metadata": {},
   "source": [
    "## 行操作\n"
   ]
  },
  {
   "cell_type": "markdown",
   "metadata": {},
   "source": [
    "### 访问行\n"
   ]
  },
  {
   "cell_type": "code",
   "execution_count": 38,
   "metadata": {},
   "outputs": [
    {
     "name": "stdout",
     "output_type": "stream",
     "text": [
      "   one  two  three  four\n",
      "a  1.0    1    1.0   NaN\n",
      "b  2.0    2    NaN   1.0\n",
      "c  3.0    3    3.0   2.0\n",
      "d  NaN    4    4.0   3.0\n",
      "   one  two  three  four\n",
      "b  2.0    2    NaN   1.0\n",
      "c  3.0    3    3.0   2.0\n",
      "   one  two  three  four\n",
      "b  2.0    2    NaN   1.0\n",
      "c  3.0    3    3.0   2.0\n",
      "d  NaN    4    4.0   3.0\n",
      "   one  two  three  four\n",
      "b  2.0    2    NaN   1.0\n",
      "   one  two  three  four\n",
      "a  1.0    1    1.0   NaN\n",
      "c  3.0    3    3.0   2.0\n",
      "   one  two  three  four\n",
      "b  2.0    2    NaN   1.0\n",
      "d  NaN    4    4.0   3.0\n"
     ]
    }
   ],
   "source": [
    "print(df)\n",
    "print(df[1:3])\n",
    "print(df[\"b\":\"d\"])\n",
    "print(df[1:2])\n",
    "# 行标签访问\n",
    "print(df.loc[[\"a\", \"c\"]])\n",
    "# 行索引访问\n",
    "print(df.iloc[[1, 3]])"
   ]
  },
  {
   "cell_type": "markdown",
   "metadata": {},
   "source": [
    "### 添加行"
   ]
  },
  {
   "cell_type": "code",
   "execution_count": 39,
   "metadata": {},
   "outputs": [
    {
     "name": "stdout",
     "output_type": "stream",
     "text": [
      "   one  two  three  four\n",
      "a  1.0    1    1.0   NaN\n",
      "b  2.0    2    NaN   1.0\n",
      "c  3.0    3    3.0   2.0\n",
      "d  NaN    4    4.0   3.0\n",
      "e  1.0    3    NaN   NaN\n",
      "f  2.0    4    NaN   NaN\n"
     ]
    }
   ],
   "source": [
    "df = pd.concat([df,pd.DataFrame({\"one\": [1, 2], \"two\": [3, 4]},index=[\"e\", \"f\"])])\n",
    "print(df)"
   ]
  },
  {
   "cell_type": "markdown",
   "metadata": {},
   "source": [
    "### 删除行"
   ]
  },
  {
   "cell_type": "code",
   "execution_count": 40,
   "metadata": {},
   "outputs": [
    {
     "name": "stdout",
     "output_type": "stream",
     "text": [
      "   one  two  three  four\n",
      "a  1.0    1    1.0   NaN\n",
      "b  2.0    2    NaN   1.0\n",
      "c  3.0    3    3.0   2.0\n",
      "d  NaN    4    4.0   3.0\n",
      "e  1.0    3    NaN   NaN\n",
      "f  2.0    4    NaN   NaN\n",
      "   one  two  three  four\n",
      "a  1.0    1    1.0   NaN\n",
      "b  2.0    2    NaN   1.0\n",
      "c  3.0    3    3.0   2.0\n",
      "e  1.0    3    NaN   NaN\n",
      "f  2.0    4    NaN   NaN\n",
      "   one  two  three  four\n",
      "c  3.0    3    3.0   2.0\n",
      "d  NaN    4    4.0   3.0\n",
      "e  1.0    3    NaN   NaN\n",
      "f  2.0    4    NaN   NaN\n"
     ]
    }
   ],
   "source": [
    "print(df)\n",
    "print(df.drop('d'))\n",
    "print(df.drop(['a', 'b']))"
   ]
  },
  {
   "cell_type": "markdown",
   "metadata": {},
   "source": [
    "# 复合索引"
   ]
  },
  {
   "cell_type": "code",
   "execution_count": 41,
   "metadata": {},
   "outputs": [
    {
     "name": "stdout",
     "output_type": "stream",
     "text": [
      "      0     1     2\n",
      "0  81.0  84.0  79.0\n",
      "1  85.0  83.0  88.0\n",
      "2  85.0  87.0  78.0\n",
      "3  87.0  88.0  88.0\n",
      "4  81.0  85.0  87.0\n",
      "5  86.0  85.0  88.0\n",
      "             0     1     2\n",
      "classA F  81.0  84.0  79.0\n",
      "       M  85.0  83.0  88.0\n",
      "classB F  85.0  87.0  78.0\n",
      "       M  87.0  88.0  88.0\n",
      "classC F  81.0  85.0  87.0\n",
      "       M  86.0  85.0  88.0\n",
      "           Age            \n",
      "           20+   30+   40+\n",
      "classA F  81.0  84.0  79.0\n",
      "       M  85.0  83.0  88.0\n",
      "classB F  85.0  87.0  78.0\n",
      "       M  87.0  88.0  88.0\n",
      "classC F  81.0  85.0  87.0\n",
      "       M  86.0  85.0  88.0\n"
     ]
    }
   ],
   "source": [
    "# 生成一个6行3列的随机数组，并将其转换为DataFrame\n",
    "data = np.floor(np.random.normal(85, 3, (6,3)))\n",
    "df = pd.DataFrame(data)\n",
    "# 打印DataFrame\n",
    "print(df)\n",
    "# 创建一个元组列表，用于设置DataFrame的索引\n",
    "index = [('classA', 'F'), ('classA', 'M'), ('classB', 'F'), ('classB', 'M'), ('classC', 'F'), ('classC', 'M')]\n",
    "df.index = pd.MultiIndex.from_tuples(index)\n",
    "# 打印DataFrame\n",
    "print(df)\n",
    "# 创建一个元组列表，用于设置DataFrame的列\n",
    "columns = [('Age', '20+'), ('Age', '30+'), ('Age', '40+')]\n",
    "df.columns = pd.MultiIndex.from_tuples(columns)\n",
    "# 打印DataFrame\n",
    "print(df)"
   ]
  },
  {
   "cell_type": "markdown",
   "metadata": {},
   "source": [
    "## 行检索"
   ]
  },
  {
   "cell_type": "code",
   "execution_count": 42,
   "metadata": {},
   "outputs": [
    {
     "name": "stdout",
     "output_type": "stream",
     "text": [
      "           Age            \n",
      "           20+   30+   40+\n",
      "classA F  81.0  84.0  79.0\n",
      "       M  85.0  83.0  88.0\n",
      "classB F  85.0  87.0  78.0\n",
      "       M  87.0  88.0  88.0\n",
      "classC F  81.0  85.0  87.0\n",
      "       M  86.0  85.0  88.0\n",
      "    Age            \n",
      "    20+   30+   40+\n",
      "F  81.0  84.0  79.0\n",
      "M  85.0  83.0  88.0\n",
      "           Age            \n",
      "           20+   30+   40+\n",
      "classA F  81.0  84.0  79.0\n",
      "       M  85.0  83.0  88.0\n",
      "classC F  81.0  85.0  87.0\n",
      "       M  86.0  85.0  88.0\n",
      "Age  20+    85.0\n",
      "     30+    83.0\n",
      "     40+    88.0\n",
      "Name: (classA, M), dtype: float64\n",
      "88.0\n"
     ]
    }
   ],
   "source": [
    "\n",
    "print(df)\n",
    "print(df.loc['classA'])\n",
    "print(df.loc[['classA', 'classC']])\n",
    "print(df.loc['classA', 'M'])\n",
    "# ClassA M 行中Age 40+ 的列\n",
    "print(df.loc['classA', 'M']['Age', '40+'])\n"
   ]
  },
  {
   "cell_type": "markdown",
   "metadata": {},
   "source": [
    "## 列检索"
   ]
  },
  {
   "cell_type": "code",
   "execution_count": 44,
   "metadata": {},
   "outputs": [
    {
     "name": "stdout",
     "output_type": "stream",
     "text": [
      "           20+   30+   40+\n",
      "classA F  81.0  84.0  79.0\n",
      "       M  85.0  83.0  88.0\n",
      "classB F  85.0  87.0  78.0\n",
      "       M  87.0  88.0  88.0\n",
      "classC F  81.0  85.0  87.0\n",
      "       M  86.0  85.0  88.0\n",
      "classA  F    81.0\n",
      "        M    85.0\n",
      "classB  F    85.0\n",
      "        M    87.0\n",
      "classC  F    81.0\n",
      "        M    86.0\n",
      "Name: 20+, dtype: float64\n",
      "classA  F    81.0\n",
      "        M    85.0\n",
      "classB  F    85.0\n",
      "        M    87.0\n",
      "classC  F    81.0\n",
      "        M    86.0\n",
      "Name: 20+, dtype: float64\n",
      "classA  F    81.0\n",
      "        M    85.0\n",
      "classB  F    85.0\n",
      "        M    87.0\n",
      "classC  F    81.0\n",
      "        M    86.0\n",
      "Name: (Age, 20+), dtype: float64\n"
     ]
    }
   ],
   "source": [
    "print(df.Age)\n",
    "print(df.Age['20+'])\n",
    "print(df['Age']['20+'])\n",
    "print(df['Age', '20+'])"
   ]
  }
 ],
 "metadata": {
  "kernelspec": {
   "display_name": "Python 3",
   "language": "python",
   "name": "python3"
  },
  "language_info": {
   "codemirror_mode": {
    "name": "ipython",
    "version": 3
   },
   "file_extension": ".py",
   "mimetype": "text/x-python",
   "name": "python",
   "nbconvert_exporter": "python",
   "pygments_lexer": "ipython3",
   "version": "3.8.9"
  }
 },
 "nbformat": 4,
 "nbformat_minor": 2
}
