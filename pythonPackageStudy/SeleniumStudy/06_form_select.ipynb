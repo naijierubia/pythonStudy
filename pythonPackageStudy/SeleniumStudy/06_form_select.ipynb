{
 "cells": [
  {
   "cell_type": "markdown",
   "metadata": {},
   "source": [
    "1. radio：直接click\n",
    "2. checkbox：由于可以复选，先把所有选择的元素提取出来再click\n",
    "3. select：有专门的select类操作，对应的有deselect_by_value等取消选中，deselect_all取消所有\n",
    "   1. 通过值选择select_by_value('value')\n",
    "   2. 通过序号选择select_by_index(0)\n",
    "   3. 通过文本选择select_by_visible_text"
   ]
  }
 ],
 "metadata": {
  "language_info": {
   "name": "python"
  }
 },
 "nbformat": 4,
 "nbformat_minor": 2
}
