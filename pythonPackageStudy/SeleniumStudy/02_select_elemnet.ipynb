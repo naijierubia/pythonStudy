{
 "cells": [
  {
   "cell_type": "code",
   "execution_count": 1,
   "metadata": {},
   "outputs": [
    {
     "data": {
      "text/plain": [
       "'1'"
      ]
     },
     "execution_count": 1,
     "metadata": {},
     "output_type": "execute_result"
    }
   ],
   "source": [
    "from selenium import webdriver\n",
    "from selenium.webdriver.common.by import By\n",
    "\n",
    "driver = webdriver.Chrome()\n",
    "driver.get(\"https://www.bilibili.com\")\n",
    "\n",
    "# 选择元素\n",
    "element = driver.find_element(By.CSS_SELECTOR, '#nav-searchform > div.nav-search-content > input')\n",
    "\n",
    "element.send_keys('伊莉雅\\n')\n",
    "\n",
    "input()\n",
    "driver.quit()"
   ]
  },
  {
   "cell_type": "markdown",
   "metadata": {},
   "source": [
    "在 WebDriver 中有 8 种不同的内置元素定位策略：\n",
    "\n",
    "| class name        | 定位class属性与搜索值匹配的元素（不允许使用复合类名）        |\n",
    "| ----------------- | ------------------------------------------------------------ |\n",
    "| css selector      | 定位 CSS 选择器匹配的元素                                    |\n",
    "| id                | 定位 id 属性与搜索值匹配的元素                               |\n",
    "| name              | 定位 name 属性与搜索值匹配的元素                             |\n",
    "| link text         | 定位link text可视文本与搜索值完全匹配的锚元素                |\n",
    "| partial link text | 定位link text可视文本部分与搜索值部分匹配的锚点元素。如果匹配多个元素，则只选择第一个元素。 |\n",
    "| tag name          | 定位标签名称与搜索值匹配的元素                               |\n",
    "| xpath             | 定位与 XPath 表达式匹配的元素                                |"
   ]
  },
  {
   "cell_type": "markdown",
   "metadata": {},
   "source": [
    "使用 find_elements 选择的是符合条件的 所有 元素， 如果没有符合条件的元素， 返回空列表\n",
    "\n",
    "使用 find_element 选择的是符合条件的 第一个 元素， 如果没有符合条件的元素， 抛出 NoSuchElementException 异常"
   ]
  },
  {
   "cell_type": "code",
   "execution_count": null,
   "metadata": {},
   "outputs": [],
   "source": [
    "# element元素也能调用find_element方法，但只能查找该元素内部的元素\n",
    "\n",
    "driver = webdriver.Chrome()\n",
    "driver.get(\"https://www.bilibili.com\")\n",
    "\n",
    "element = driver.find_element(By.CSS_SELECTOR, '#nav-searchform > div.nav-search-content')\n",
    "input_element = element.find_element(By.TAG_NAME, 'input')\n",
    "\n",
    "input_element.send_keys('伊莉雅\\n')\n",
    "\n",
    "input()\n",
    "driver.quit()"
   ]
  }
 ],
 "metadata": {
  "kernelspec": {
   "display_name": "Python 3",
   "language": "python",
   "name": "python3"
  },
  "language_info": {
   "codemirror_mode": {
    "name": "ipython",
    "version": 3
   },
   "file_extension": ".py",
   "mimetype": "text/x-python",
   "name": "python",
   "nbconvert_exporter": "python",
   "pygments_lexer": "ipython3",
   "version": "3.8.9"
  }
 },
 "nbformat": 4,
 "nbformat_minor": 2
}
