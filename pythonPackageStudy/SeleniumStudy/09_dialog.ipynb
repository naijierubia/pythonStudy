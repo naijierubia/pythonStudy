{
 "cells": [
  {
   "cell_type": "markdown",
   "metadata": {},
   "source": [
    "当弹出对话框时无法操作页面元素，对话框分为：\n",
    "1. alert\n",
    "   1. driver.switch_to.alert.accept()确认\n",
    "   2. driver.switch_to.alert.text获取弹出的内容\n",
    "2. confirm\n",
    "   1. driver.switch_to.alert.accept()同意\n",
    "   2. driver.switch_to.alert.dismiss()取消\n",
    "3. prompt\n",
    "   1. driver.switch_to.alert.send_keys()输入内容"
   ]
  }
 ],
 "metadata": {
  "kernelspec": {
   "display_name": "Python 3",
   "language": "python",
   "name": "python3"
  },
  "language_info": {
   "name": "python",
   "version": "3.8.9"
  }
 },
 "nbformat": 4,
 "nbformat_minor": 2
}
