{
 "cells": [
  {
   "cell_type": "markdown",
   "metadata": {},
   "source": [
    "1. 点击元素：调用element的.click方法即可，会点击元素的中心\n",
    "2. 输入框：使用.clear清除输入，.send_keys输入\n",
    "3. 文本内容：使用.text获取文本内容\n",
    "4. 元素属性：使用.get_attribute获取属性值\n",
    "   1. element.get_attribute('outerHTML')：获取元素的完整HTML代码\n",
    "   2. element.get_attribute('innerHTML')：获取元素的内部HTML代码\n",
    "   3. element.get_attribute('value')：获取输入框的值\n",
    "5. css选择器：\n",
    "   1. element = wd.find_element(By.CSS_SELECTOR, 'div[class=misc][ctype=gun]')：选择含有该属性的元素\n",
    "\n",
    "注意：\n",
    "\n",
    "但是，有时候，元素的文本内容没有展示在界面上，或者没有完全完全展示在界面上。 这时，用WebElement对象的text属性，获取文本内容，就会有问题。\n",
    "出现这种情况，可以尝试使用 element.get_attribute('innerText') ，或者 element.get_attribute('textContent')\n",
    "使用 innerText 和 textContent 的区别是，前者只显示元素可见文本内容，后者显示所有内容（包括display属性为none的部分）"
   ]
  }
 ],
 "metadata": {
  "language_info": {
   "name": "python"
  }
 },
 "nbformat": 4,
 "nbformat_minor": 2
}
