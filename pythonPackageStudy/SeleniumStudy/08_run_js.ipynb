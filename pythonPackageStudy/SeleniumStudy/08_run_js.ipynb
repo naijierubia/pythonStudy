{
 "cells": [
  {
   "cell_type": "markdown",
   "metadata": {},
   "source": [
    "直接执行 javascript，里面可以直接用return返回我们需要的数据"
   ]
  },
  {
   "cell_type": "code",
   "execution_count": 5,
   "metadata": {},
   "outputs": [
    {
     "name": "stdout",
     "output_type": "stream",
     "text": [
      "3\n"
     ]
    }
   ],
   "source": [
    "from selenium import webdriver\n",
    "driver = webdriver.Chrome()\n",
    "\n",
    "text = driver.execute_script(\n",
    "    '''\n",
    "    const a = 1\n",
    "    const b = 2\n",
    "    return a + b\n",
    "    ''')\n",
    "print(text)\n",
    "driver.quit()"
   ]
  },
  {
   "cell_type": "code",
   "execution_count": 7,
   "metadata": {},
   "outputs": [],
   "source": [
    "# driver.execute_script(\"arguments[0].scrollIntoView({block:'center',inline:'center'})\", \n",
    "#                       job) \n",
    "\n",
    "# 利用这个特性可以让视图之外的元素出现在视图内"
   ]
  }
 ],
 "metadata": {
  "kernelspec": {
   "display_name": "Python 3",
   "language": "python",
   "name": "python3"
  },
  "language_info": {
   "codemirror_mode": {
    "name": "ipython",
    "version": 3
   },
   "file_extension": ".py",
   "mimetype": "text/x-python",
   "name": "python",
   "nbconvert_exporter": "python",
   "pygments_lexer": "ipython3",
   "version": "3.8.9"
  }
 },
 "nbformat": 4,
 "nbformat_minor": 2
}
