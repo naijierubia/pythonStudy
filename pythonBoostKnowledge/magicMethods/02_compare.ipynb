{
 "cells": [
  {
   "cell_type": "markdown",
   "metadata": {},
   "source": [
    "python中的操作符rich comparison一共分为6种，分别是：\n",
    "| 编号 | 符号 | 对应方法 |                        说明                         |\n",
    "| :--: | :--: | :------: | :-------------------------------------------------: |\n",
    "|  1   |  ==  | \\_\\_eq__ |            自定义数据结构==默认为is判断             |\n",
    "|  2   |  !=  | \\_\\_ne__  |           如果未定义，默认是对==结果取反            |\n",
    "|  3   |  >   | \\_\\_gt__  |       无默认定义，自定义数据结构未定义会报错        |\n",
    "|  4   |  <   | \\_\\_lt__  |     如果未定义但定义了>，判断x<y会转化为判断y>x     |\n",
    "|  5   |  >=  | \\_\\_ge__  | 不会在>和=定义之后推算，也就是>=和> or = 有时不等价 |\n",
    "|  6   |  <=  | \\_\\_le__  | 不会在<和=定义之后推算，也就是>=和> or = 有时不等价 |\n",
    "\n",
    "此外\n",
    "| 编号 | 符号 | 对应方法 |                        说明                         |\n",
    "| :--: | :--: | :------: | :-------------------------------------------------: |\n",
    "|  1   |    | \\_\\_hash__ |            当\\_\\_eq__被重载后默认的hash函数也会被删去，需要重写             |\n",
    "|  2   |    | \\_\\_bool__  |           默认都会当做真           |"
   ]
  },
  {
   "cell_type": "code",
   "execution_count": 21,
   "metadata": {},
   "outputs": [],
   "source": [
    "# 定义一个储存日期的class\n",
    "# 结构为：Date(year, month, day)\n",
    "# 重载进行比较的方法\n",
    "\n",
    "\n",
    "class Date:\n",
    "    def __init__(self, year: int, month: int, day: int) -> None:\n",
    "        self.year = year\n",
    "        self.month = month\n",
    "        self.day = day\n",
    "\n",
    "    def __eq__(self, other: object) -> bool:\n",
    "        \"\"\"对应 == 实际也上可以返回非布尔值\"\"\"\n",
    "        return (\n",
    "            self.year == other.year\n",
    "            and self.month == other.month\n",
    "            and self.day == other.day\n",
    "        )\n",
    "\n",
    "    def __ne__(self, other: object) -> bool:\n",
    "        \"\"\"对应 != 当未被定义时默认对==结果取反\"\"\"\n",
    "        return (\n",
    "            self.year != other.year\n",
    "            or self.month != other.month\n",
    "            or self.day != other.day\n",
    "        )\n",
    "\n",
    "    def __gt__(self, other: object) -> bool:\n",
    "        \"\"\"对应 > 未定义时直接报错\"\"\"\n",
    "        print(\"__gt__\")\n",
    "        if self.year > other.year:\n",
    "            return True\n",
    "        if self.year == other.year:\n",
    "            if self.month > other.month:\n",
    "                return True\n",
    "            if self.month == other.month:\n",
    "                return self.day > other.day\n",
    "\n",
    "    def __lt__(self, other: object) -> bool:\n",
    "        \"\"\"对应 < 未定义将小于转化为大于\"\"\"\n",
    "        print(\"__lt__\")\n",
    "        if self.year < other.year:\n",
    "            return True\n",
    "        if self.year == other.year:\n",
    "            if self.month < other.month:\n",
    "                return True\n",
    "            if self.month == other.month:\n",
    "                return self.day < other.day\n",
    "\n",
    "    def __ge__(self, other: object) -> bool:\n",
    "        \"\"\"对应 >= 没有定义时直接报错\"\"\"\n",
    "        print(\"__ge__\")\n",
    "        if self.year > other.year:\n",
    "            return True\n",
    "        if self.year == other.year:\n",
    "            if self.month > other.month:\n",
    "                return True\n",
    "            if self.month == other.month:\n",
    "                return self.day >= other.day\n",
    "\n",
    "    def __le__(self, other: object) -> bool:\n",
    "        \"\"\"对应 <= 没有定义时直接报错\"\"\"\n",
    "        print(\"__le__\")\n",
    "        if self.year < other.year:\n",
    "            return True\n",
    "        if self.year == other.year:\n",
    "            if self.month < other.month:\n",
    "                return True\n",
    "            if self.month == other.month:\n",
    "                return self.day <= other.day\n",
    "\n",
    "    def __hash__(self) -> int:\n",
    "        \"\"\"\n",
    "        相同的值要得到相同的hash\n",
    "        且需要返回整数\n",
    "        \"\"\"\n",
    "        return hash((self.year, self.month, self.day))\n",
    "    \n",
    "    def __bool__(self) -> bool:\n",
    "        return False\n",
    "\n",
    "    def __str__(self) -> str:\n",
    "        return f\"{self.year}-{self.month}-{self.day}\""
   ]
  },
  {
   "cell_type": "code",
   "execution_count": 22,
   "metadata": {},
   "outputs": [
    {
     "name": "stdout",
     "output_type": "stream",
     "text": [
      "True\n",
      "False\n"
     ]
    }
   ],
   "source": [
    "# == 与 !=\n",
    "date1 = Date(2020, 1, 1)\n",
    "date2 = Date(2020, 1, 1)\n",
    "print(date1 == date2)\n",
    "\n",
    "date3 = Date(2020, 1, 2)\n",
    "print(date1 == date3)"
   ]
  },
  {
   "cell_type": "code",
   "execution_count": 23,
   "metadata": {},
   "outputs": [
    {
     "name": "stdout",
     "output_type": "stream",
     "text": [
      "__lt__\n",
      "True\n",
      "******************************\n",
      "__gt__\n",
      "True\n"
     ]
    }
   ],
   "source": [
    "# > 与 <\n",
    "class NewDate(Date):\n",
    "    pass\n",
    "\n",
    "date4 = Date(2020, 1, 1)\n",
    "date5 = Date(2020, 1, 2)\n",
    "# 当处于同一个class中，<会调用__lt__\n",
    "print(date4 < date5)\n",
    "print(\"******************************\")\n",
    "date6 = NewDate(2020, 1, 2)\n",
    "# 但是如果有衍生类，会先调用衍生类\n",
    "print(date4 < date6)"
   ]
  },
  {
   "cell_type": "markdown",
   "metadata": {},
   "source": [
    "***"
   ]
  },
  {
   "cell_type": "code",
   "execution_count": 24,
   "metadata": {},
   "outputs": [
    {
     "name": "stdout",
     "output_type": "stream",
     "text": [
      "{<__main__.Date object at 0x000001BE60A1AE80>: 300, <__main__.Date object at 0x000001BE60A1AD30>: 400}\n"
     ]
    }
   ],
   "source": [
    "# 默认的__hash__函数在重载__eq__后会被删去\n",
    "# 因为hash相等，两个值就需要相等\n",
    "# 将默认的__eq__重载后再使用默认的hash就没有意义\n",
    "# 此时想要使用hash()就需要对__hash__重载\n",
    "x = Date(2024,1,1)\n",
    "y = Date(2024,1,1)\n",
    "z = Date(2024,1,2)\n",
    "income:dict = {}\n",
    "income[x] = 200\n",
    "income[y] = 300\n",
    "income[z] = 400\n",
    "print(income)"
   ]
  },
  {
   "cell_type": "code",
   "execution_count": 25,
   "metadata": {},
   "outputs": [
    {
     "name": "stdout",
     "output_type": "stream",
     "text": [
      "False\n"
     ]
    }
   ],
   "source": [
    "# 默认的object进行bool判断都会被认为是真\n",
    "# 可以通过__bool__重载\n",
    "\n",
    "date7 = Date(2024,1,1)\n",
    "print(bool(date7))"
   ]
  }
 ],
 "metadata": {
  "kernelspec": {
   "display_name": "Python 3",
   "language": "python",
   "name": "python3"
  },
  "language_info": {
   "codemirror_mode": {
    "name": "ipython",
    "version": 3
   },
   "file_extension": ".py",
   "mimetype": "text/x-python",
   "name": "python",
   "nbconvert_exporter": "python",
   "pygments_lexer": "ipython3",
   "version": "3.8.9"
  }
 },
 "nbformat": 4,
 "nbformat_minor": 2
}
