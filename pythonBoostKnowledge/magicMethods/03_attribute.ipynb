{
 "cells": [
  {
   "cell_type": "markdown",
   "metadata": {},
   "source": [
    "| 编号 |      魔术方法      |                             说明                             |\n",
    "| :--: | :----------------: | :----------------------------------------------------------: |\n",
    "|  1   |   \\_\\_getattr__    | 只有当读取的属性不存在的时候才会调用，默认会抛出AttributeError |\n",
    "|  2   | \\_\\_getattribute__ |      无论属性是否存在都会调用，使用时要注意是否无限递归      |\n",
    "|  3   |   \\_\\_setattr__    |                        设置属性时调用                        |\n",
    "|  4   |   \\_\\_getattr__    |                        读取属性时调用                        |\n",
    "|  5   |   \\_\\_delattr__    |                        del属性时调用                         |\n",
    "|  6   |     \\_\\_dir__      |                 客制化dir(object)返回的内容                  |\n",
    "|  7   |    \\_\\_slots__     |             变量，白名单存储object中可以有的属性             |"
   ]
  },
  {
   "cell_type": "code",
   "execution_count": 5,
   "metadata": {},
   "outputs": [],
   "source": [
    "class AttributeMethod:\n",
    "    def __init__(self):\n",
    "        self.exist = \"exist\"\n",
    "\n",
    "    def __getattr__(self, name):\n",
    "        \"\"\"\n",
    "        只有当读取的属性不存在的时候才会调用\n",
    "        默认会抛出AttributeError\n",
    "        \"\"\"\n",
    "        print(f\"__getattr__: {name}\")\n",
    "        return None\n",
    "    \n",
    "    def __getattribute__(self, name):\n",
    "        \"\"\"只要调用了属性就会调用这个函数，无论属性是否存在\"\"\"\n",
    "        print(f\"__getattribute__: {name}\")\n",
    "        # 一定要使用这样的写法，其他写法可能造成无限递归\n",
    "        return super().__getattribute__(name)\n",
    "    \n"
   ]
  },
  {
   "cell_type": "code",
   "execution_count": 6,
   "metadata": {},
   "outputs": [
    {
     "name": "stdout",
     "output_type": "stream",
     "text": [
      "__getattribute__: exist\n",
      "exist\n",
      "__getattribute__: test\n",
      "__getattr__: test\n",
      "None\n"
     ]
    }
   ],
   "source": [
    "# __getattr__和__getattribute__\n",
    "# \n",
    "# 只要调用了属性不管存不存在都会调用__getattribute__\n",
    "# 但如果属性不存在还会调用__getattr__\n",
    "\n",
    "a = AttributeMethod()\n",
    "print(a.exist)\n",
    "print(a.test)"
   ]
  },
  {
   "cell_type": "code",
   "execution_count": 7,
   "metadata": {},
   "outputs": [
    {
     "name": "stdout",
     "output_type": "stream",
     "text": [
      "data\n",
      "data\n",
      "2\n"
     ]
    }
   ],
   "source": [
    "# 可以通过__getattribute__实现对属性调用次数进行统计\n",
    "class StaticData:\n",
    "    def __init__(self):\n",
    "        self.data = \"data\"\n",
    "        self.count = 0\n",
    "\n",
    "    def __getattribute__(self, name):\n",
    "        if name == \"data\":\n",
    "            # 要注意的是，这里读取了count，其实也调用了一次__getattribute__，如果不加判断就会导致无限递归\n",
    "            self.count += 1\n",
    "        return super().__getattribute__(name)\n",
    "\n",
    "s = StaticData()    \n",
    "print(s.data)\n",
    "print(s.data)\n",
    "print(s.count)"
   ]
  },
  {
   "cell_type": "markdown",
   "metadata": {},
   "source": [
    "***"
   ]
  },
  {
   "cell_type": "code",
   "execution_count": 8,
   "metadata": {},
   "outputs": [
    {
     "name": "stdout",
     "output_type": "stream",
     "text": [
      "123\n"
     ]
    }
   ],
   "source": [
    "# __setattr__实现所有实例都挂载到类变量上\n",
    "\n",
    "class SetAttrMethod:\n",
    "    _attr = {}\n",
    "    def __init__(self) -> None:\n",
    "        self.data = \"abc\"\n",
    "    \n",
    "    def __setattr__(self, name, value):\n",
    "        \"\"\"\n",
    "        当设置属性值时调用此函数\n",
    "        使用默认方法则return super().__setattr__(name,value)\n",
    "\n",
    "        这里是将所有实例设置值时全部挂载到类变量上\n",
    "        \"\"\"\n",
    "        self._attr[name] = value\n",
    "\n",
    "    def __getattr__(self, name):\n",
    "        \"\"\"当读取实例属性的时候，返回村村储存在类变量中的value\"\"\"\n",
    "        if name not in self._attr:\n",
    "            raise AttributeError\n",
    "        return self._attr[name]\n",
    "    \n",
    "a1 = SetAttrMethod()\n",
    "a2 = SetAttrMethod()\n",
    "a1.data = \"123\"\n",
    "print(a2.data)\n",
    "        \n"
   ]
  },
  {
   "cell_type": "markdown",
   "metadata": {},
   "source": [
    "***"
   ]
  },
  {
   "cell_type": "code",
   "execution_count": 12,
   "metadata": {},
   "outputs": [
    {
     "name": "stdout",
     "output_type": "stream",
     "text": [
      "delete attr: data\n",
      "data is not exist\n",
      "None\n"
     ]
    }
   ],
   "source": [
    "# ____delattr____当使用del删除属性时调用\n",
    "class DelAttrMethod:\n",
    "    def __init__(self):\n",
    "        self.data = \"abc\"\n",
    "\n",
    "    def __delattr__(self, name):\n",
    "        print(\"delete attr:\", name)\n",
    "        super().__delattr__(name)\n",
    "    \n",
    "    def __getattr__(self, name):\n",
    "        print(f\"{name} is not exist\")\n",
    "        return None\n",
    "\n",
    "d = DelAttrMethod()\n",
    "# 触发__delattr__\n",
    "del d.data\n",
    "# data属性已经被删去\n",
    "print(d.data)"
   ]
  },
  {
   "cell_type": "markdown",
   "metadata": {},
   "source": [
    "***"
   ]
  },
  {
   "cell_type": "code",
   "execution_count": 13,
   "metadata": {},
   "outputs": [
    {
     "name": "stdout",
     "output_type": "stream",
     "text": [
      "['data']\n"
     ]
    }
   ],
   "source": [
    "# dir(object)可以查看object中可以使用的方法和变量\n",
    "# __dir__可以自定义返回内容\n",
    "# 但是返回内容必须是一个sequence\n",
    "\n",
    "class DirMethod:\n",
    "    def __init__(self) -> None:\n",
    "        self.data = \"abc\"\n",
    "    \n",
    "    def __dir__(self):\n",
    "        \"\"\"将返回内容删去魔术方法\"\"\"\n",
    "        lst = super().__dir__()\n",
    "        return [x for x in lst if not x.startswith(\"__\")]\n",
    "    \n",
    "d = DirMethod()\n",
    "print(dir(d))"
   ]
  },
  {
   "cell_type": "markdown",
   "metadata": {},
   "source": [
    "***"
   ]
  },
  {
   "cell_type": "markdown",
   "metadata": {},
   "source": [
    "描述器"
   ]
  },
  {
   "cell_type": "code",
   "execution_count": 17,
   "metadata": {},
   "outputs": [
    {
     "name": "stdout",
     "output_type": "stream",
     "text": [
      "0\n",
      "1\n"
     ]
    }
   ],
   "source": [
    "class A:\n",
    "    def __init__(self) -> None:\n",
    "        self.val = 0\n",
    "\n",
    "    def __get__(self, instance, owner=None):\n",
    "        return self.val\n",
    "    \n",
    "    def __set__(self, instance, value):\n",
    "        self.val = value\n",
    "\n",
    "    def __delete__(self, instance):\n",
    "        print(\"delete\")\n",
    "\n",
    "class B:\n",
    "    # 这样的写法就是描述器\n",
    "    x = A()\n",
    "\n",
    "o = B()\n",
    "print(o.x)\n",
    "\n",
    "o.x = 1\n",
    "o2 = B()\n",
    "print(o2.x)\n"
   ]
  },
  {
   "cell_type": "markdown",
   "metadata": {},
   "source": [
    "***"
   ]
  },
  {
   "cell_type": "code",
   "execution_count": 18,
   "metadata": {},
   "outputs": [
    {
     "ename": "AttributeError",
     "evalue": "'A' object has no attribute 'z'",
     "output_type": "error",
     "traceback": [
      "\u001b[1;31m---------------------------------------------------------------------------\u001b[0m",
      "\u001b[1;31mAttributeError\u001b[0m                            Traceback (most recent call last)",
      "Cell \u001b[1;32mIn[18], line 8\u001b[0m\n\u001b[0;32m      6\u001b[0m a \u001b[38;5;241m=\u001b[39m A()\n\u001b[0;32m      7\u001b[0m a\u001b[38;5;241m.\u001b[39mx \u001b[38;5;241m=\u001b[39m \u001b[38;5;241m1\u001b[39m\n\u001b[1;32m----> 8\u001b[0m \u001b[43ma\u001b[49m\u001b[38;5;241;43m.\u001b[39;49m\u001b[43mz\u001b[49m \u001b[38;5;241m=\u001b[39m \u001b[38;5;241m1\u001b[39m\n",
      "\u001b[1;31mAttributeError\u001b[0m: 'A' object has no attribute 'z'"
     ]
    }
   ],
   "source": [
    "# __slots__白名单机制\n",
    "# 允许class的object只能出现的属性\n",
    "class A:\n",
    "    __slots__ = (\"x\", \"y\")\n",
    "\n",
    "a = A()\n",
    "a.x = 1\n",
    "a.z = 1\n"
   ]
  }
 ],
 "metadata": {
  "kernelspec": {
   "display_name": "Python 3",
   "language": "python",
   "name": "python3"
  },
  "language_info": {
   "codemirror_mode": {
    "name": "ipython",
    "version": 3
   },
   "file_extension": ".py",
   "mimetype": "text/x-python",
   "name": "python",
   "nbconvert_exporter": "python",
   "pygments_lexer": "ipython3",
   "version": "3.8.9"
  }
 },
 "nbformat": 4,
 "nbformat_minor": 2
}
