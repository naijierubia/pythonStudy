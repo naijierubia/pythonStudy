{
 "cells": [
  {
   "cell_type": "markdown",
   "metadata": {},
   "source": [
    "1. \\_\\_new__\n",
    "2. \\_\\_init__\n",
    "3. \\_\\_del__\n",
    "4. \\_\\_format__\n",
    "5. \\_\\_bytes__"
   ]
  },
  {
   "cell_type": "code",
   "execution_count": 37,
   "metadata": {},
   "outputs": [
    {
     "name": "stdout",
     "output_type": "stream",
     "text": [
      "__new__\n",
      "__init__\n",
      "变量\n"
     ]
    }
   ],
   "source": [
    "class BaseMethod:\n",
    "    def __new__(cls, x):\n",
    "        \"\"\"new是发生在一个class到建立object的过程\"\"\"\n",
    "        print(\"__new__\")\n",
    "        # 如果不写返回，那么__init__就不会被调用\n",
    "        return super().__new__(cls)\n",
    "\n",
    "    def __init__(self, x):\n",
    "        \"\"\"init是在一个object被建立后初始化的过程\"\"\"\n",
    "        self.x = x\n",
    "        print(\"__init__\")\n",
    "\n",
    "\n",
    "base_method = BaseMethod(\"变量\")\n",
    "print(base_method.x)"
   ]
  },
  {
   "cell_type": "markdown",
   "metadata": {},
   "source": [
    "当建立一个object的时候，python会先调用__new__方法，返回一个object，建立时传入的参数也会先传入__new__方法中，在object建立后会调用__init__进行初始化\n",
    "\n",
    "一般来说__new__不需要使用，除非是需要客制化建立object的过程，例如实现单例模式、metaclass"
   ]
  },
  {
   "cell_type": "code",
   "execution_count": 38,
   "metadata": {},
   "outputs": [
    {
     "name": "stdout",
     "output_type": "stream",
     "text": [
      "True\n"
     ]
    }
   ],
   "source": [
    "class Singleton:\n",
    "    _instance = None\n",
    "\n",
    "    def __new__(cls, *args, **kwargs):\n",
    "        if not cls._instance:\n",
    "            cls._instance = super().__new__(cls)\n",
    "        return cls._instance\n",
    "\n",
    "    def __init__(self):\n",
    "        pass\n",
    "\n",
    "\n",
    "# 使用\n",
    "singleton1 = Singleton()\n",
    "singleton2 = Singleton()\n",
    "\n",
    "print(singleton1 is singleton2)  # 输出 True"
   ]
  },
  {
   "cell_type": "markdown",
   "metadata": {},
   "source": [
    "***"
   ]
  },
  {
   "cell_type": "code",
   "execution_count": 39,
   "metadata": {},
   "outputs": [
    {
     "name": "stdout",
     "output_type": "stream",
     "text": [
      "__del__\n"
     ]
    }
   ],
   "source": [
    "class DelMethod:\n",
    "    def __del__(self):\n",
    "        \"\"\"在对象被释放的时候执行，但是由于python释放的机制较为复杂，所以一般难以把握\"\"\"\n",
    "        print(\"__del__\")\n",
    "\n",
    "\n",
    "del_method = DelMethod()\n",
    "del del_method"
   ]
  },
  {
   "cell_type": "markdown",
   "metadata": {},
   "source": [
    "***"
   ]
  },
  {
   "cell_type": "code",
   "execution_count": 40,
   "metadata": {},
   "outputs": [
    {
     "name": "stdout",
     "output_type": "stream",
     "text": [
      "默认调用str方法 <str>\n",
      "指定打印repr方法 <repr>\n",
      "指定打印str方法 <str>\n"
     ]
    }
   ],
   "source": [
    "class printMethod:\n",
    "    def __str__(self):\n",
    "        return \"<str>\"\n",
    "\n",
    "    def __repr__(self):\n",
    "        return \"<repr>\"\n",
    "\n",
    "\n",
    "print_method = printMethod()\n",
    "print(\"默认调用str方法\", print_method)\n",
    "# 也可以指定打印，当str没有被定义时，都调用repr\n",
    "print(\"指定打印repr方法\", repr(print_method))\n",
    "print(\"指定打印str方法\", str(print_method))"
   ]
  },
  {
   "cell_type": "markdown",
   "metadata": {},
   "source": [
    "***"
   ]
  },
  {
   "cell_type": "code",
   "execution_count": 41,
   "metadata": {},
   "outputs": [
    {
     "name": "stdout",
     "output_type": "stream",
     "text": [
      "指定类型为x<0xA>\n",
      "不指定类型<A>\n"
     ]
    }
   ],
   "source": [
    "class FormatMethod:\n",
    "    def __format__(self, spec):\n",
    "        \"\"\"根据传入类型作出不同的动作\"\"\"\n",
    "        if spec == \"x\":\n",
    "            return \"<0xA>\"\n",
    "        return \"<A>\"\n",
    "\n",
    "\n",
    "format_method = FormatMethod()\n",
    "print(f\"指定类型为x{format_method:x}\")\n",
    "print(f\"不指定类型{format_method}\")"
   ]
  },
  {
   "cell_type": "markdown",
   "metadata": {},
   "source": [
    "***"
   ]
  },
  {
   "cell_type": "code",
   "execution_count": 42,
   "metadata": {},
   "outputs": [
    {
     "name": "stdout",
     "output_type": "stream",
     "text": [
      "__bytes__\n",
      "b'\\x00\\x02\\x03'\n"
     ]
    }
   ],
   "source": [
    "class BytesMethod:\n",
    "    def __bytes__(self):\n",
    "        \"\"\"客制化bytes表示\"\"\"\n",
    "        print(\"__bytes__\")\n",
    "        return bytes([0,2,3])\n",
    "\n",
    "print(bytes(BytesMethod()))"
   ]
  }
 ],
 "metadata": {
  "kernelspec": {
   "display_name": "Python 3 (ipykernel)",
   "language": "python",
   "name": "python3"
  },
  "language_info": {
   "codemirror_mode": {
    "name": "ipython",
    "version": 3
   },
   "file_extension": ".py",
   "mimetype": "text/x-python",
   "name": "python",
   "nbconvert_exporter": "python",
   "pygments_lexer": "ipython3",
   "version": "3.11.5"
  }
 },
 "nbformat": 4,
 "nbformat_minor": 2
}
